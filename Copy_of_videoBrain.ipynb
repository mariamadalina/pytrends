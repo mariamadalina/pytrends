{
  "nbformat": 4,
  "nbformat_minor": 0,
  "metadata": {
    "colab": {
      "name": "Copy of videoBrain.ipynb",
      "provenance": [],
      "collapsed_sections": [],
      "mount_file_id": "1QSbM3XBNf69cMRZ44W9rbrofn9KQJtKL",
      "authorship_tag": "ABX9TyNR2SfO743ptDybCZz/zQbU",
      "include_colab_link": true
    },
    "kernelspec": {
      "name": "python3",
      "display_name": "Python 3"
    }
  },
  "cells": [
    {
      "cell_type": "markdown",
      "metadata": {
        "id": "view-in-github",
        "colab_type": "text"
      },
      "source": [
        "<a href=\"https://colab.research.google.com/github/mariamadalina/pytrends/blob/master/Copy_of_videoBrain.ipynb\" target=\"_parent\"><img src=\"https://colab.research.google.com/assets/colab-badge.svg\" alt=\"Open In Colab\"/></a>"
      ]
    },
    {
      "cell_type": "code",
      "metadata": {
        "id": "UTF_-p-y0GzE",
        "colab_type": "code",
        "outputId": "0d9715a5-a82b-429a-a9e5-c023f8466fcf",
        "colab": {
          "base_uri": "https://localhost:8080/",
          "height": 1000
        }
      },
      "source": [
        "!pip install youtube_dl\n",
        "!pip install pafy\n",
        "!pip install emoji\n",
        "!pip install Unidecode\n",
        "!pip install gensim\n",
        "!pip install Word2Vec\n",
        "!pip install nltk\n"
      ],
      "execution_count": 0,
      "outputs": [
        {
          "output_type": "stream",
          "text": [
            "Collecting youtube_dl\n",
            "\u001b[?25l  Downloading https://files.pythonhosted.org/packages/4a/46/31aa255d531b3d77880fc5492396ba421525b926a2f4db8be883495d1bdd/youtube_dl-2020.5.3-py2.py3-none-any.whl (1.8MB)\n",
            "\u001b[K     |████████████████████████████████| 1.8MB 2.8MB/s \n",
            "\u001b[?25hInstalling collected packages: youtube-dl\n",
            "Successfully installed youtube-dl-2020.5.3\n",
            "Collecting pafy\n",
            "  Downloading https://files.pythonhosted.org/packages/74/69/829919eeadff695338f98fa12bb99e45490761a2010c8d688d88b6df194a/pafy-0.5.5-py2.py3-none-any.whl\n",
            "Installing collected packages: pafy\n",
            "Successfully installed pafy-0.5.5\n",
            "Collecting emoji\n",
            "\u001b[?25l  Downloading https://files.pythonhosted.org/packages/40/8d/521be7f0091fe0f2ae690cc044faf43e3445e0ff33c574eae752dd7e39fa/emoji-0.5.4.tar.gz (43kB)\n",
            "\u001b[K     |████████████████████████████████| 51kB 1.4MB/s \n",
            "\u001b[?25hBuilding wheels for collected packages: emoji\n",
            "  Building wheel for emoji (setup.py) ... \u001b[?25l\u001b[?25hdone\n",
            "  Created wheel for emoji: filename=emoji-0.5.4-cp36-none-any.whl size=42176 sha256=0a37ed62b85f0f54fc010fc768519ced0d6ae6df90d727a4495762891bd02f9b\n",
            "  Stored in directory: /root/.cache/pip/wheels/2a/a9/0a/4f8e8cce8074232aba240caca3fade315bb49fac68808d1a9c\n",
            "Successfully built emoji\n",
            "Installing collected packages: emoji\n",
            "Successfully installed emoji-0.5.4\n",
            "Collecting Unidecode\n",
            "\u001b[?25l  Downloading https://files.pythonhosted.org/packages/d0/42/d9edfed04228bacea2d824904cae367ee9efd05e6cce7ceaaedd0b0ad964/Unidecode-1.1.1-py2.py3-none-any.whl (238kB)\n",
            "\u001b[K     |████████████████████████████████| 245kB 2.6MB/s \n",
            "\u001b[?25hInstalling collected packages: Unidecode\n",
            "Successfully installed Unidecode-1.1.1\n",
            "Requirement already satisfied: gensim in /usr/local/lib/python3.6/dist-packages (3.6.0)\n",
            "Requirement already satisfied: numpy>=1.11.3 in /usr/local/lib/python3.6/dist-packages (from gensim) (1.18.3)\n",
            "Requirement already satisfied: six>=1.5.0 in /usr/local/lib/python3.6/dist-packages (from gensim) (1.12.0)\n",
            "Requirement already satisfied: scipy>=0.18.1 in /usr/local/lib/python3.6/dist-packages (from gensim) (1.4.1)\n",
            "Requirement already satisfied: smart-open>=1.2.1 in /usr/local/lib/python3.6/dist-packages (from gensim) (2.0.0)\n",
            "Requirement already satisfied: boto in /usr/local/lib/python3.6/dist-packages (from smart-open>=1.2.1->gensim) (2.49.0)\n",
            "Requirement already satisfied: requests in /usr/local/lib/python3.6/dist-packages (from smart-open>=1.2.1->gensim) (2.23.0)\n",
            "Requirement already satisfied: boto3 in /usr/local/lib/python3.6/dist-packages (from smart-open>=1.2.1->gensim) (1.13.1)\n",
            "Requirement already satisfied: certifi>=2017.4.17 in /usr/local/lib/python3.6/dist-packages (from requests->smart-open>=1.2.1->gensim) (2020.4.5.1)\n",
            "Requirement already satisfied: urllib3!=1.25.0,!=1.25.1,<1.26,>=1.21.1 in /usr/local/lib/python3.6/dist-packages (from requests->smart-open>=1.2.1->gensim) (1.24.3)\n",
            "Requirement already satisfied: idna<3,>=2.5 in /usr/local/lib/python3.6/dist-packages (from requests->smart-open>=1.2.1->gensim) (2.9)\n",
            "Requirement already satisfied: chardet<4,>=3.0.2 in /usr/local/lib/python3.6/dist-packages (from requests->smart-open>=1.2.1->gensim) (3.0.4)\n",
            "Requirement already satisfied: jmespath<1.0.0,>=0.7.1 in /usr/local/lib/python3.6/dist-packages (from boto3->smart-open>=1.2.1->gensim) (0.9.5)\n",
            "Requirement already satisfied: s3transfer<0.4.0,>=0.3.0 in /usr/local/lib/python3.6/dist-packages (from boto3->smart-open>=1.2.1->gensim) (0.3.3)\n",
            "Requirement already satisfied: botocore<1.17.0,>=1.16.1 in /usr/local/lib/python3.6/dist-packages (from boto3->smart-open>=1.2.1->gensim) (1.16.1)\n",
            "Requirement already satisfied: docutils<0.16,>=0.10 in /usr/local/lib/python3.6/dist-packages (from botocore<1.17.0,>=1.16.1->boto3->smart-open>=1.2.1->gensim) (0.15.2)\n",
            "Requirement already satisfied: python-dateutil<3.0.0,>=2.1 in /usr/local/lib/python3.6/dist-packages (from botocore<1.17.0,>=1.16.1->boto3->smart-open>=1.2.1->gensim) (2.8.1)\n",
            "Collecting Word2Vec\n",
            "\u001b[?25l  Downloading https://files.pythonhosted.org/packages/32/4f/eacdef7e9b89fa3e76781cff42376e2fdb56900e1f2f3c56a4724f2fd1f2/word2vec-0.10.6.tar.gz (61kB)\n",
            "\u001b[K     |████████████████████████████████| 71kB 2.2MB/s \n",
            "\u001b[?25hRequirement already satisfied: six in /usr/local/lib/python3.6/dist-packages (from Word2Vec) (1.12.0)\n",
            "Requirement already satisfied: cython in /usr/local/lib/python3.6/dist-packages (from Word2Vec) (0.29.17)\n",
            "Requirement already satisfied: numpy>=1.9.2 in /usr/local/lib/python3.6/dist-packages (from Word2Vec) (1.18.3)\n",
            "Requirement already satisfied: scipy in /usr/local/lib/python3.6/dist-packages (from Word2Vec) (1.4.1)\n",
            "Requirement already satisfied: joblib in /usr/local/lib/python3.6/dist-packages (from Word2Vec) (0.14.1)\n",
            "Building wheels for collected packages: Word2Vec\n",
            "  Building wheel for Word2Vec (setup.py) ... \u001b[?25l\u001b[?25hdone\n",
            "  Created wheel for Word2Vec: filename=word2vec-0.10.6-cp36-cp36m-linux_x86_64.whl size=131438 sha256=7b306f40d885b44b4fab2e42e9369151ed432ab8252c14a79ab6eb84b6f7dad8\n",
            "  Stored in directory: /root/.cache/pip/wheels/d7/d2/04/b93168fa0dd297aaf22624e39d89b1b7261ceddad8f34698c7\n",
            "Successfully built Word2Vec\n",
            "Installing collected packages: Word2Vec\n",
            "Successfully installed Word2Vec-0.10.6\n",
            "Requirement already satisfied: nltk in /usr/local/lib/python3.6/dist-packages (3.2.5)\n",
            "Requirement already satisfied: six in /usr/local/lib/python3.6/dist-packages (from nltk) (1.12.0)\n"
          ],
          "name": "stdout"
        }
      ]
    },
    {
      "cell_type": "code",
      "metadata": {
        "id": "agRB8uaZZnCR",
        "colab_type": "code",
        "colab": {}
      },
      "source": [
        "from pandas.io.json import json_normalize\n",
        "import pandas as pd\n",
        "import matplotlib.pyplot as plt\n",
        "from datetime import date\n",
        "import numpy\n",
        "from numpy.testing import assert_almost_equal\n",
        "import time\n",
        "import os\n",
        "import numpy as np\n",
        "# from tagger import Tagger"
      ],
      "execution_count": 0,
      "outputs": []
    },
    {
      "cell_type": "code",
      "metadata": {
        "id": "sF12yMeTQoTD",
        "colab_type": "code",
        "colab": {}
      },
      "source": [
        "top_of = 100"
      ],
      "execution_count": 0,
      "outputs": []
    },
    {
      "cell_type": "code",
      "metadata": {
        "id": "AsHMhFDcEKUo",
        "colab_type": "code",
        "outputId": "0ad4fc98-98fd-455f-b823-ae83ab753ac7",
        "colab": {
          "base_uri": "https://localhost:8080/",
          "height": 204
        }
      },
      "source": [
        "!wget -P /root/input/ -c \"https://s3.amazonaws.com/dl4j-distribution/GoogleNews-vectors-negative300.bin.gz\""
      ],
      "execution_count": 0,
      "outputs": [
        {
          "output_type": "stream",
          "text": [
            "--2020-05-06 20:40:15--  https://s3.amazonaws.com/dl4j-distribution/GoogleNews-vectors-negative300.bin.gz\n",
            "Resolving s3.amazonaws.com (s3.amazonaws.com)... 52.216.143.198\n",
            "Connecting to s3.amazonaws.com (s3.amazonaws.com)|52.216.143.198|:443... connected.\n",
            "HTTP request sent, awaiting response... 200 OK\n",
            "Length: 1647046227 (1.5G) [application/x-gzip]\n",
            "Saving to: ‘/root/input/GoogleNews-vectors-negative300.bin.gz’\n",
            "\n",
            "GoogleNews-vectors- 100%[===================>]   1.53G  60.9MB/s    in 24s     \n",
            "\n",
            "2020-05-06 20:40:39 (65.9 MB/s) - ‘/root/input/GoogleNews-vectors-negative300.bin.gz’ saved [1647046227/1647046227]\n",
            "\n"
          ],
          "name": "stdout"
        }
      ]
    },
    {
      "cell_type": "code",
      "metadata": {
        "id": "ceB938oGQNIk",
        "colab_type": "code",
        "outputId": "54e97708-e077-4d96-bfa1-3a2db1e68819",
        "colab": {
          "base_uri": "https://localhost:8080/",
          "height": 204
        }
      },
      "source": [
        "!wget -P /root/input/ -c \"http://lcl.uniroma1.it/nasari/files/NASARIembed+UMBC_w2v.bin\""
      ],
      "execution_count": 0,
      "outputs": [
        {
          "output_type": "stream",
          "text": [
            "--2020-04-20 13:14:05--  http://lcl.uniroma1.it/nasari/files/NASARIembed+UMBC_w2v.bin\n",
            "Resolving lcl.uniroma1.it (lcl.uniroma1.it)... 151.100.179.52\n",
            "Connecting to lcl.uniroma1.it (lcl.uniroma1.it)|151.100.179.52|:80... connected.\n",
            "HTTP request sent, awaiting response... 200 OK\n",
            "Length: 6932614670 (6.5G) [application/octet-stream]\n",
            "Saving to: ‘/root/input/NASARIembed+UMBC_w2v.bin’\n",
            "\n",
            "NASARIembed+UMBC_w2 100%[===================>]   6.46G  8.08MB/s    in 17m 16s \n",
            "\n",
            "2020-04-20 13:31:21 (6.38 MB/s) - ‘/root/input/NASARIembed+UMBC_w2v.bin’ saved [6932614670/6932614670]\n",
            "\n"
          ],
          "name": "stdout"
        }
      ]
    },
    {
      "cell_type": "code",
      "metadata": {
        "id": "ubX-qSVbGNii",
        "colab_type": "code",
        "outputId": "6e8f2e46-235d-4b73-d36f-f7ba01e4f408",
        "colab": {
          "base_uri": "https://localhost:8080/",
          "height": 105
        }
      },
      "source": [
        "from gensim.models import Word2Vec,KeyedVectors\n",
        "import nltk\n",
        "from nltk.cluster import KMeansClusterer\n",
        "import numpy as np \n",
        "import re\n",
        "from nltk.corpus import stopwords\n",
        "nltk.download('stopwords')\n",
        "EMBEDDING_FILE = '/root/input/GoogleNews-vectors-negative300.bin.gz'\n",
        "EMBEDDING_FILE_NASARI = '/root/input/NASARIembed+UMBC_w2v.bin'\n",
        "\n",
        "vocabulary = {} # key is the word, value is the index\n",
        "inverse_vocabulary = ['<unk>'] # value is the word, index is the index\n",
        "word2vec = KeyedVectors.load_word2vec_format(EMBEDDING_FILE, binary=True)\n",
        "# check this https://radimrehurek.com/gensim/models/word2vec.html\n",
        "# binary = true is because the word2vec file we have has a bin suffix, if it's text file, binary = false\n",
        "# key is the word, value is a 300 dimensional vector for each word\n"
      ],
      "execution_count": 0,
      "outputs": [
        {
          "output_type": "stream",
          "text": [
            "[nltk_data] Downloading package stopwords to /root/nltk_data...\n",
            "[nltk_data]   Unzipping corpora/stopwords.zip.\n"
          ],
          "name": "stdout"
        },
        {
          "output_type": "stream",
          "text": [
            "/usr/local/lib/python3.6/dist-packages/smart_open/smart_open_lib.py:253: UserWarning: This function is deprecated, use smart_open.open instead. See the migration notes for details: https://github.com/RaRe-Technologies/smart_open/blob/master/README.rst#migrating-to-the-new-open-function\n",
            "  'See the migration notes for details: %s' % _MIGRATION_NOTES_URL\n"
          ],
          "name": "stderr"
        }
      ]
    },
    {
      "cell_type": "code",
      "metadata": {
        "id": "kuBNIwcQx2i3",
        "colab_type": "code",
        "colab": {}
      },
      "source": [
        "def get_category(video_category):\n",
        "  if (video_category=='Food & Drinks'):\n",
        "    return category_identifier.get_categpry_id('Food & Drink')\n",
        "  elif (video_category=='Autos & Vehicles'):\n",
        "    return category_identifier.get_categpry_id('Autos & Vehicles')\n",
        "  elif (video_category=='Pets & Animals'):\n",
        "    return category_identifier.get_categpry_id('Pets & Animals')\n",
        "  elif (video_category=='Computers & Electronics'):\n",
        "    return category_identifier.get_categpry_id('Computers & Electronics')\n"
      ],
      "execution_count": 0,
      "outputs": []
    },
    {
      "cell_type": "code",
      "metadata": {
        "id": "AbRjiCs3tYXK",
        "colab_type": "code",
        "outputId": "1f53f588-dcc1-48b3-b19c-9102cb61ef5e",
        "colab": {
          "base_uri": "https://localhost:8080/",
          "height": 129
        }
      },
      "source": [
        "video_df=pd.read_csv('video (6).csv')\n",
        "video_df=video_df[video_df['video_category'].notna()]\n",
        "video_df['id']=video_df['url'].apply(lambda x: x.replace('https://www.youtube.com/watch?v=','')\n",
        "keywords_df=pd.read_csv('video_keywords (11).csv')"
      ],
      "execution_count": 0,
      "outputs": [
        {
          "output_type": "error",
          "ename": "SyntaxError",
          "evalue": "ignored",
          "traceback": [
            "\u001b[0;36m  File \u001b[0;32m\"<ipython-input-8-20c6e22d1c76>\"\u001b[0;36m, line \u001b[0;32m4\u001b[0m\n\u001b[0;31m    keywords_df=pd.read_csv('video_keywords (11).csv')\u001b[0m\n\u001b[0m              ^\u001b[0m\n\u001b[0;31mSyntaxError\u001b[0m\u001b[0;31m:\u001b[0m invalid syntax\n"
          ]
        }
      ]
    },
    {
      "cell_type": "code",
      "metadata": {
        "id": "nSnqLDJeali5",
        "colab_type": "code",
        "colab": {}
      },
      "source": [
        "keywords_df=pd.read_csv('sample_videos.csv')\n",
        "video_df=pd.read_csv('video (6).csv')\n",
        "video_df=video_df[video_df['id'].isin(['uVnDJMjNySg', 'c_XnMwhAI4I', 'Bbk5RcH0bbQ', 'J6eJtNvTWII', '4jk0Cq_vU2A', 'XMA7r6xlwH8', '9Hh_vdDk4Kg', 'WAGA9TAvqXk'])]\n",
        "video_df.head()"
      ],
      "execution_count": 0,
      "outputs": []
    },
    {
      "cell_type": "code",
      "metadata": {
        "id": "e1dXtNi0wN6h",
        "colab_type": "code",
        "colab": {}
      },
      "source": [
        ""
      ],
      "execution_count": 0,
      "outputs": []
    },
    {
      "cell_type": "code",
      "metadata": {
        "id": "qFOWGCmrt3K7",
        "colab_type": "code",
        "outputId": "f2293b57-86d6-4590-d6a7-50ca39a95d6c",
        "colab": {
          "base_uri": "https://localhost:8080/",
          "height": 51
        }
      },
      "source": [
        "print (video_df.video_category.unique(),keywords_df.columns)"
      ],
      "execution_count": 0,
      "outputs": [
        {
          "output_type": "stream",
          "text": [
            "['Autos & Vehicles' 'Pets & Animals' 'Food & Drinks'\n",
            " 'Computers & Electronics'] Index(['video_id', 'Tag', 'word_count'], dtype='object')\n"
          ],
          "name": "stdout"
        }
      ]
    },
    {
      "cell_type": "code",
      "metadata": {
        "id": "57w0bAxz0bgT",
        "colab_type": "code",
        "outputId": "e422623d-59c8-4dec-a111-c3c298eb2ae3",
        "colab": {
          "base_uri": "https://localhost:8080/",
          "height": 153
        }
      },
      "source": [
        "import pandas as pd\n",
        "import numpy as np\n",
        "import warnings\n",
        "warnings.filterwarnings('ignore')\n",
        "from pytrends import pytrends\n",
        "\n",
        "\n",
        "category_identifier = pytrends.utils.CategoryRead()\n",
        "\n",
        "\n",
        "tags_df = pd.DataFrame(columns=['Category','google_trends_category','google_trends'])\n",
        "# Login to Google. Only need to run this once, the rest of requests will use the same session.\n",
        "\n",
        "google_trends={}\n",
        "for category in video_df.video_category.unique():\n",
        "  \n",
        "\n",
        "  print (category)\n",
        "  search_category = get_category(category)\n",
        "  print(search_category)\n",
        "\n",
        "  category_identifier.set_related_searches(category,search_category,google_trends,top_of=200)\n",
        "  for ngram in google_trends[category]:  \n",
        "    tags_df.loc[len(tags_df)] = {'Category':category,'google_trends_category':search_category,'google_trends':ngram}\n",
        "\n",
        "tags_df.to_csv('all_tags.csv')\n",
        " "
      ],
      "execution_count": 0,
      "outputs": [
        {
          "output_type": "stream",
          "text": [
            "Autos & Vehicles\n",
            "47\n",
            "Pets & Animals\n",
            "66\n",
            "Food & Drinks\n",
            "71\n",
            "Computers & Electronics\n",
            "5\n"
          ],
          "name": "stdout"
        }
      ]
    },
    {
      "cell_type": "code",
      "metadata": {
        "id": "TlzCD0BYaxsK",
        "colab_type": "code",
        "colab": {}
      },
      "source": [
        "tags_df= pd.read_csv('all_tags (3).csv')"
      ],
      "execution_count": 0,
      "outputs": []
    },
    {
      "cell_type": "code",
      "metadata": {
        "id": "kGCCiwEw-5bM",
        "colab_type": "code",
        "colab": {}
      },
      "source": [
        "google_trends=tags_df.copy()"
      ],
      "execution_count": 0,
      "outputs": []
    },
    {
      "cell_type": "code",
      "metadata": {
        "id": "uypQO4NwBCBh",
        "colab_type": "code",
        "outputId": "0dd6a793-b9ee-4f5a-9d7b-f66c33d08af6",
        "colab": {
          "base_uri": "https://localhost:8080/",
          "height": 34
        }
      },
      "source": [
        "google_trends.columns"
      ],
      "execution_count": 0,
      "outputs": [
        {
          "output_type": "execute_result",
          "data": {
            "text/plain": [
              "Index(['Unnamed: 0', 'Category', 'google_trends_category', 'google_trends'], dtype='object')"
            ]
          },
          "metadata": {
            "tags": []
          },
          "execution_count": 14
        }
      ]
    },
    {
      "cell_type": "code",
      "metadata": {
        "id": "5oMeFPJWltcv",
        "colab_type": "code",
        "outputId": "5ebcaa53-296e-45cb-aad0-ad1c898ac708",
        "colab": {
          "base_uri": "https://localhost:8080/",
          "height": 88
        }
      },
      "source": [
        "word2vec.init_sims(replace=True)\n",
        "similarity = word2vec.similarity('woman', 'man')\n",
        "print (similarity)"
      ],
      "execution_count": 0,
      "outputs": [
        {
          "output_type": "stream",
          "text": [
            "0.76640123\n"
          ],
          "name": "stdout"
        },
        {
          "output_type": "stream",
          "text": [
            "/usr/local/lib/python3.6/dist-packages/gensim/matutils.py:737: FutureWarning: Conversion of the second argument of issubdtype from `int` to `np.signedinteger` is deprecated. In future, it will be treated as `np.int64 == np.dtype(int).type`.\n",
            "  if np.issubdtype(vec.dtype, np.int):\n"
          ],
          "name": "stderr"
        }
      ]
    },
    {
      "cell_type": "code",
      "metadata": {
        "id": "34CFGfcO2L6O",
        "colab_type": "code",
        "colab": {}
      },
      "source": [
        "from sklearn.metrics.pairwise import cosine_similarity\n",
        "def get_cosine_similarity(feature_vec_1, feature_vec_2):\n",
        "  return cosine_similarity(feature_vec_1.reshape(1, -1), feature_vec_2.reshape(1, -1))[0][0]"
      ],
      "execution_count": 0,
      "outputs": []
    },
    {
      "cell_type": "code",
      "metadata": {
        "id": "lE4OUw6H46LB",
        "colab_type": "code",
        "colab": {}
      },
      "source": [
        "from gensim.models import Word2Vec,KeyedVectors\n",
        "import nltk\n",
        "from nltk.cluster import KMeansClusterer\n",
        "import numpy as np \n",
        "import re\n",
        "from nltk.corpus import stopwords\n",
        "stop_words = stopwords.words('english')\n",
        "import pandas as pd\n",
        "\n",
        "\n",
        "class MySentences(object):\n",
        "  def __init__(self,model,coco_categories:pd.DataFrame=None):\n",
        "    self.model=model\n",
        "    self.coco_categories=coco_categories\n",
        "\n",
        "  def sentence_vectorize(self,sentence):\n",
        "    sent_vec=[]\n",
        "    num_words=0\n",
        "    words = [word for word in sentence if word in self.model.wv.vocab and word not in stop_words]\n",
        "    if len(words) >= 1:\n",
        "      return np.mean(self.model[words], axis=0)\n",
        "    else:\n",
        "      return []\n",
        "\n",
        "  def sent2vec(self,sentence):\n",
        "      \n",
        "      s=sentence.split()\n",
        "      words = [w for w in s if w in self.model.wv.vocab and w not in stop_words]\n",
        "      words = [w for w in words if w.isalpha()]\n",
        "      if len(words) ==0:\n",
        "        return []\n",
        "      else:\n",
        "\n",
        "        M = []\n",
        "        for w in words:\n",
        "            try:\n",
        "                M.append(self.model[w])\n",
        "            except:\n",
        "                continue\n",
        "        M = np.array(M)\n",
        "        v = M.sum(axis=0)\n",
        "        return v / np.sqrt((v ** 2).sum())"
      ],
      "execution_count": 0,
      "outputs": []
    },
    {
      "cell_type": "code",
      "metadata": {
        "id": "Xp_tfsQj-G7k",
        "colab_type": "code",
        "colab": {}
      },
      "source": [
        "def get_tags(tags):\n",
        "  return set(tags.split())\n",
        "\n",
        "def get_tags_sentence(tags):\n",
        "  tags_v = []\n",
        "  for tag in tags:\n",
        "    for t in tag.split():\n",
        "      tags_v.append(t)\n",
        "  return \" \".join(tags_v)\n"
      ],
      "execution_count": 0,
      "outputs": []
    },
    {
      "cell_type": "markdown",
      "metadata": {
        "id": "gF8HQmPp3OE8",
        "colab_type": "text"
      },
      "source": [
        "\n",
        "Sentece similarity"
      ]
    },
    {
      "cell_type": "code",
      "metadata": {
        "id": "D196JxXX7mmP",
        "colab_type": "code",
        "cellView": "form",
        "colab": {}
      },
      "source": [
        "#@title Sentence similarity\n",
        "from gensim.models import Word2Vec,KeyedVectors\n",
        "import nltk\n",
        "from nltk.cluster import KMeansClusterer\n",
        "import numpy as np \n",
        "import re\n",
        "from nltk.corpus import stopwords\n",
        "\n",
        "import pandas as pd\n",
        "import numpy as np\n",
        "import ast\n",
        "import gensim\n",
        "from nltk.corpus import stopwords\n",
        "from tqdm import tqdm_notebook\n",
        "from nltk import word_tokenize\n",
        "from scipy.stats import skew, kurtosis\n",
        "from scipy.spatial.distance import cosine, cityblock, jaccard, canberra, euclidean, minkowski, braycurtis\n",
        "from nltk import word_tokenize\n",
        "\n",
        "\n",
        "  \n",
        "from sklearn import cluster,metrics\n",
        "import warnings\n",
        "warnings.filterwarnings('ignore')\n",
        "\n",
        "\n",
        "word2vec.init_sims(replace=True)\n",
        "sentence_vectorizer= MySentences(word2vec)\n",
        "\n",
        "tags_df = pd.DataFrame(columns=['Category','video_id','videoUrl','Title','original_tags', 'Tags','google_trends',\n",
        "                                    'EMD','cosine','cityblock',\n",
        "                                    'canberra_distance','euclidean','minkowski','braycurtis',\n",
        "                                    'similarity_word_2_vec'])\n",
        "# Login to Google. Only need to run this once, the rest of requests will use the same session.\n",
        "\n",
        "number_of_tags=4\n",
        "for video in video_df.itertuples():\n",
        "  print ('*'*100)\n",
        "  print (video)\n",
        "  category = video.video_category\n",
        "  video_url = video.url\n",
        "  tags = keywords_df[keywords_df['video_id']==video.id].Tag.values[:number_of_tags]\n",
        "  title= video.Title\n",
        "  # print ('*'*20,'tags',tags)\n",
        "  key_tags = get_tags_sentence(tags)\n",
        "  # print ('*'*20,'keytags',key_tags)\n",
        "\n",
        "  if (len(key_tags)==0):\n",
        "    continue\n",
        "  keywords_embedding=sentence_vectorizer.sent2vec(key_tags)\n",
        "\n",
        "  sentences = []\n",
        "  sentences = google_trends[google_trends['Category']==category].google_trends\n",
        "\n",
        "  for sentence in sentences :\n",
        "    sentence_embedding = sentence_vectorizer.sent2vec(sentence)\n",
        "    if len(sentence_embedding)==0:\n",
        "      continue\n",
        "    similarity = get_cosine_similarity(keywords_embedding, sentence_embedding)\n",
        "    distancew = word2vec.wmdistance(key_tags, sentence)\n",
        "    cosine_distance = cosine(keywords_embedding, sentence_embedding)\n",
        "    cityblock_distance = cityblock(keywords_embedding, sentence_embedding)\n",
        "      \n",
        "    canberra_distance = canberra(keywords_embedding, sentence_embedding)\n",
        "    euclidean_distance = euclidean(keywords_embedding, sentence_embedding) \n",
        "    minkowski_distance = minkowski(keywords_embedding, sentence_embedding, 3)\n",
        "    braycurtis_distance = braycurtis(keywords_embedding, sentence_embedding)\n",
        "   \n",
        "          \n",
        "    tags_df.loc[len(tags_df)] = {'Category':category,'video_id':video.id,'videoUrl':video_url,'Title':title,'original_tags':', '.join(tags),'Tags': key_tags,'google_trends':sentence,\n",
        "                                    'EMD':distancew,'cosine':cosine_distance,'cityblock':cityblock_distance,\n",
        "                                    'canberra_distance':canberra_distance,'euclidean':euclidean_distance,'minkowski':minkowski_distance,'braycurtis':braycurtis_distance,\n",
        "                                    'similarity_word_2_vec':similarity,\n",
        "                                    }"
      ],
      "execution_count": 0,
      "outputs": []
    },
    {
      "cell_type": "code",
      "metadata": {
        "id": "D4XJQVH6EVlW",
        "colab_type": "code",
        "outputId": "05973f49-cd10-4dce-867b-64e726ea3306",
        "colab": {
          "base_uri": "https://localhost:8080/",
          "height": 564
        }
      },
      "source": [
        "tags_df[tags_df['video_id']=='UEJbKLZ7RmM'].sort_values(['similarity_word_2_vec'],ascending=[False]).head()"
      ],
      "execution_count": 0,
      "outputs": [
        {
          "output_type": "execute_result",
          "data": {
            "text/html": [
              "<div>\n",
              "<style scoped>\n",
              "    .dataframe tbody tr th:only-of-type {\n",
              "        vertical-align: middle;\n",
              "    }\n",
              "\n",
              "    .dataframe tbody tr th {\n",
              "        vertical-align: top;\n",
              "    }\n",
              "\n",
              "    .dataframe thead th {\n",
              "        text-align: right;\n",
              "    }\n",
              "</style>\n",
              "<table border=\"1\" class=\"dataframe\">\n",
              "  <thead>\n",
              "    <tr style=\"text-align: right;\">\n",
              "      <th></th>\n",
              "      <th>Category</th>\n",
              "      <th>video_id</th>\n",
              "      <th>videoUrl</th>\n",
              "      <th>Title</th>\n",
              "      <th>original_tags</th>\n",
              "      <th>Tags</th>\n",
              "      <th>google_trends</th>\n",
              "      <th>EMD</th>\n",
              "      <th>cosine</th>\n",
              "      <th>cityblock</th>\n",
              "      <th>canberra_distance</th>\n",
              "      <th>euclidean</th>\n",
              "      <th>minkowski</th>\n",
              "      <th>braycurtis</th>\n",
              "      <th>similarity_word_2_vec</th>\n",
              "    </tr>\n",
              "  </thead>\n",
              "  <tbody>\n",
              "    <tr>\n",
              "      <th>66</th>\n",
              "      <td>Autos &amp; Vehicles</td>\n",
              "      <td>UEJbKLZ7RmM</td>\n",
              "      <td>https://www.youtube.com/watch?v=UEJbKLZ7RmM</td>\n",
              "      <td>How to Restore Headlights PERMANENTLY</td>\n",
              "      <td>headlight restoration toothpaste, headlight cl...</td>\n",
              "      <td>headlight restoration toothpaste headlight cle...</td>\n",
              "      <td>how to tint car windows</td>\n",
              "      <td>0.358698</td>\n",
              "      <td>0.459507</td>\n",
              "      <td>13.373025</td>\n",
              "      <td>168.343006</td>\n",
              "      <td>0.958652</td>\n",
              "      <td>0.430670</td>\n",
              "      <td>0.541302</td>\n",
              "      <td>0.540493</td>\n",
              "    </tr>\n",
              "    <tr>\n",
              "      <th>110</th>\n",
              "      <td>Autos &amp; Vehicles</td>\n",
              "      <td>UEJbKLZ7RmM</td>\n",
              "      <td>https://www.youtube.com/watch?v=UEJbKLZ7RmM</td>\n",
              "      <td>How to Restore Headlights PERMANENTLY</td>\n",
              "      <td>headlight restoration toothpaste, headlight cl...</td>\n",
              "      <td>headlight restoration toothpaste headlight cle...</td>\n",
              "      <td>bust the windows out your car</td>\n",
              "      <td>0.435341</td>\n",
              "      <td>0.538038</td>\n",
              "      <td>14.013577</td>\n",
              "      <td>177.465988</td>\n",
              "      <td>1.037341</td>\n",
              "      <td>0.477795</td>\n",
              "      <td>0.598299</td>\n",
              "      <td>0.461962</td>\n",
              "    </tr>\n",
              "    <tr>\n",
              "      <th>14</th>\n",
              "      <td>Autos &amp; Vehicles</td>\n",
              "      <td>UEJbKLZ7RmM</td>\n",
              "      <td>https://www.youtube.com/watch?v=UEJbKLZ7RmM</td>\n",
              "      <td>How to Restore Headlights PERMANENTLY</td>\n",
              "      <td>headlight restoration toothpaste, headlight cl...</td>\n",
              "      <td>headlight restoration toothpaste headlight cle...</td>\n",
              "      <td>car patrol</td>\n",
              "      <td>0.604686</td>\n",
              "      <td>0.569176</td>\n",
              "      <td>15.118774</td>\n",
              "      <td>188.651418</td>\n",
              "      <td>1.066936</td>\n",
              "      <td>0.478911</td>\n",
              "      <td>0.638516</td>\n",
              "      <td>0.430824</td>\n",
              "    </tr>\n",
              "    <tr>\n",
              "      <th>145</th>\n",
              "      <td>Autos &amp; Vehicles</td>\n",
              "      <td>UEJbKLZ7RmM</td>\n",
              "      <td>https://www.youtube.com/watch?v=UEJbKLZ7RmM</td>\n",
              "      <td>How to Restore Headlights PERMANENTLY</td>\n",
              "      <td>headlight restoration toothpaste, headlight cl...</td>\n",
              "      <td>headlight restoration toothpaste headlight cle...</td>\n",
              "      <td>car horn</td>\n",
              "      <td>0.666610</td>\n",
              "      <td>0.572667</td>\n",
              "      <td>14.642807</td>\n",
              "      <td>181.521752</td>\n",
              "      <td>1.070202</td>\n",
              "      <td>0.484999</td>\n",
              "      <td>0.627726</td>\n",
              "      <td>0.427333</td>\n",
              "    </tr>\n",
              "    <tr>\n",
              "      <th>160</th>\n",
              "      <td>Autos &amp; Vehicles</td>\n",
              "      <td>UEJbKLZ7RmM</td>\n",
              "      <td>https://www.youtube.com/watch?v=UEJbKLZ7RmM</td>\n",
              "      <td>How to Restore Headlights PERMANENTLY</td>\n",
              "      <td>headlight restoration toothpaste, headlight cl...</td>\n",
              "      <td>headlight restoration toothpaste headlight cle...</td>\n",
              "      <td>300 car barn find</td>\n",
              "      <td>0.778964</td>\n",
              "      <td>0.577952</td>\n",
              "      <td>15.083490</td>\n",
              "      <td>189.989028</td>\n",
              "      <td>1.075130</td>\n",
              "      <td>0.481301</td>\n",
              "      <td>0.657375</td>\n",
              "      <td>0.422048</td>\n",
              "    </tr>\n",
              "  </tbody>\n",
              "</table>\n",
              "</div>"
            ],
            "text/plain": [
              "             Category     video_id  ... braycurtis similarity_word_2_vec\n",
              "66   Autos & Vehicles  UEJbKLZ7RmM  ...   0.541302              0.540493\n",
              "110  Autos & Vehicles  UEJbKLZ7RmM  ...   0.598299              0.461962\n",
              "14   Autos & Vehicles  UEJbKLZ7RmM  ...   0.638516              0.430824\n",
              "145  Autos & Vehicles  UEJbKLZ7RmM  ...   0.627726              0.427333\n",
              "160  Autos & Vehicles  UEJbKLZ7RmM  ...   0.657375              0.422048\n",
              "\n",
              "[5 rows x 15 columns]"
            ]
          },
          "metadata": {
            "tags": []
          },
          "execution_count": 88
        }
      ]
    },
    {
      "cell_type": "code",
      "metadata": {
        "id": "pgk14Cpf3JEM",
        "colab_type": "code",
        "colab": {}
      },
      "source": [
        "__mask_greater = np.vectorize(lambda x, threshold: 1 if x > threshold else 0)\n",
        "__mask_lower = np.vectorize(lambda x, threshold: 1 if x < threshold else 0) \n",
        "max_phrases=10"
      ],
      "execution_count": 0,
      "outputs": []
    },
    {
      "cell_type": "code",
      "metadata": {
        "id": "KYE0WSM16NZf",
        "colab_type": "code",
        "cellView": "form",
        "colab": {}
      },
      "source": [
        "#@title Sentence similarity grouping\n",
        "dummy=tags_df.groupby(['Category','video_id','videoUrl','Title','original_tags','Tags','google_trends'])['similarity_word_2_vec','cosine','cityblock','canberra_distance','euclidean','minkowski','braycurtis','EMD']\\\n",
        ".nth(0).reset_index().copy()\n",
        "dummy=dummy.loc[dummy['similarity_word_2_vec']>0].sort_values(['similarity_word_2_vec']).copy()\n",
        "dummy['label_cosine'] = 0\n",
        "dummy['label_cityblock'] = 0\n",
        "dummy['label_canberra_distance'] = 0\n",
        "dummy['label_euclidean'] = 0\n",
        "dummy['label_minkowski'] = 0\n",
        "dummy['label_braycurtis'] = 0\n",
        "dummy['label_EMD'] = 0\n",
        "for row, group in dummy.loc[dummy['similarity_word_2_vec']>0].sort_values(['similarity_word_2_vec']).groupby(['Category','videoUrl','Tags']):\n",
        "    dummy.loc[group.index,'label_cosine']=__mask_lower(group['cosine'],group['cosine'].mean())\n",
        "    dummy.loc[group.index,'label_cityblock']=__mask_lower(group['cityblock'],group['cityblock'].mean())\n",
        "    dummy.loc[group.index,'label_canberra_distance']=__mask_lower(group['canberra_distance'],group['canberra_distance'].mean())\n",
        "    dummy.loc[group.index,'label_euclidean']=__mask_lower(group['euclidean'],group['euclidean'].mean())\n",
        "    dummy.loc[group.index,'label_minkowski']=__mask_lower(group['minkowski'],group['minkowski'].mean())\n",
        "    dummy.loc[group.index,'label_braycurtis']=__mask_lower(group['braycurtis'],group['braycurtis'].mean())\n",
        "    dummy.loc[group.index,'label_EMD']=__mask_lower(group['EMD'],group['EMD'].mean())\n",
        "\n",
        "dummy.loc[dummy['similarity_word_2_vec']>0]\\\n",
        ".loc[(dummy['label_cosine']==1)&(dummy['label_EMD']==1)&(dummy['label_cityblock']==1)&(dummy['label_canberra_distance']==1)&(dummy['label_minkowski']==1)&(dummy['label_euclidean']==1)&(dummy['label_braycurtis']==1)]\\\n",
        ".sort_values(['similarity_word_2_vec'],ascending=[False])\\\n",
        ".groupby(['Category','videoUrl','Tags'])['Category','video_id','videoUrl','Title','original_tags','Tags','similarity_word_2_vec','google_trends'].head(max_phrases)\\\n",
        ".reset_index()\\\n",
        ".to_csv('sentence_similarity_sample{0}.csv'.format(number_of_tags), index=False)\n",
        "\n",
        "# .to_csv('filtered_nasari_weighted_similarity_top_10.csv',index=False)"
      ],
      "execution_count": 0,
      "outputs": []
    },
    {
      "cell_type": "markdown",
      "metadata": {
        "id": "z67hpX2kkVKx",
        "colab_type": "text"
      },
      "source": [
        "Cluster level"
      ]
    },
    {
      "cell_type": "code",
      "metadata": {
        "id": "gUJiOijlr9Ep",
        "colab_type": "code",
        "outputId": "3e7fde8b-bba3-4f32-fbb3-e3170f00387c",
        "colab": {
          "base_uri": "https://localhost:8080/",
          "height": 34
        }
      },
      "source": [
        "def get_keywords(sentences):\n",
        "  keywords=[]\n",
        "  for s in sentences:\n",
        "    for k in s.split():\n",
        "      keywords.append(k)\n",
        "  return set(keywords)\n",
        "\n",
        "get_keywords(['relaxing time','time to relax','relaxing'])"
      ],
      "execution_count": 0,
      "outputs": [
        {
          "output_type": "execute_result",
          "data": {
            "text/plain": [
              "{'relax', 'relaxing', 'time', 'to'}"
            ]
          },
          "metadata": {
            "tags": []
          },
          "execution_count": 51
        }
      ]
    },
    {
      "cell_type": "code",
      "metadata": {
        "id": "03QnPRHikZ8U",
        "colab_type": "code",
        "cellView": "form",
        "colab": {}
      },
      "source": [
        "#@title Cluster level\n",
        "from gensim.models import Word2Vec,KeyedVectors\n",
        "import nltk\n",
        "from nltk.cluster import KMeansClusterer\n",
        "import re\n",
        "from nltk.corpus import stopwords\n",
        "import ast\n",
        "import pandas as pd\n",
        "import numpy as np\n",
        "\n",
        "\n",
        "import gensim\n",
        "from tqdm import tqdm_notebook\n",
        "from nltk import word_tokenize\n",
        "from scipy.stats import skew, kurtosis\n",
        "from scipy.spatial.distance import cosine, cityblock, jaccard, canberra, euclidean, minkowski, braycurtis\n",
        "stop_words = stopwords.words('english')\n",
        "import numpy as np \n",
        "from operator import itemgetter \n",
        "from itertools import groupby \n",
        "  \n",
        "from sklearn import cluster\n",
        "from sklearn import metrics\n",
        "import warnings\n",
        "warnings.filterwarnings('ignore')\n",
        "\n",
        "from sklearn.metrics.pairwise import cosine_similarity\n",
        "NUM_CLUSTERS=2\n",
        "\n",
        "word2vec.init_sims(replace=True)\n",
        "sentence_vectorizer= MySentences(word2vec)\n",
        "\n",
        "clusters_df = pd.DataFrame(columns=['Category','videoUrl','Title','Tags','cluster','cluster_id', 'Tags_count','google_trends',\n",
        "                                    'EMD','cosine','cityblock', 'canberra_distance','euclidean','minkowski','braycurtis','similarity_word_2_vec',\n",
        "                                    'EMD_cluster','cosine_cluster','cityblock_cluster','canberra_distance_cluster','euclidean_cluster','minkowski_cluster','braycurtis_cluster',\n",
        "                                    'similarity_word_2_vec_cluster'        ])\n",
        "number_of_tags=4\n",
        "# Login to Google. Only need to run this once, the rest of requests will use the same session.\n",
        "for video in video_df.itertuples():\n",
        "  print ('*'*100)\n",
        "  print (video)\n",
        "  category = video.video_category\n",
        "  video_url = video.url\n",
        "  tags = keywords_df[keywords_df['video_id']==video.id].Tag.values[:number_of_tags]\n",
        "  title= video.Title\n",
        "  # print ('*'*20,'tags',tags)\n",
        "  key_tags = get_tags_sentence(tags)\n",
        "  # print ('*'*20,'keytags',key_tags)\n",
        "\n",
        "  if (len(key_tags)==0):\n",
        "    continue\n",
        "\n",
        "  keywords= [w for w in get_keywords(tags) if w in word2vec.wv.vocab]\n",
        "  print('*'*20)\n",
        "  print(keywords)\n",
        "  sentences = []\n",
        "  sentences = google_trends[google_trends['Category']==category].google_trends\n",
        "  print (len(sentences), ' sentences ' )\n",
        "\n",
        "  ck=min([len(keywords),NUM_CLUSTERS])\n",
        "  X = word2vec[keywords]\n",
        "  kclusterer = KMeansClusterer(ck, distance=nltk.cluster.util.cosine_distance, repeats=25)\n",
        "  assigned_clusters = kclusterer.cluster(X, assign_clusters=True)\n",
        "  print (assigned_clusters)\n",
        "\n",
        "  clusters = {}\n",
        "  for i,w in zip(assigned_clusters,keywords):\n",
        "    if i in clusters.keys():\n",
        "      clusters[i].append(w)\n",
        "    else:\n",
        "      clusters[i]=[w]\n",
        "  print('*'*20,clusters)\n",
        "\n",
        "  keywords_embedding=sentence_vectorizer.sent2vec(key_tags)\n",
        "  for sentence in sentences :\n",
        "    if sentence != keywords:\n",
        "      sentence_embedding = sentence_vectorizer.sent2vec(sentence)\n",
        "      if len(sentence_embedding)==0:\n",
        "        continue\n",
        "      similarity = get_cosine_similarity(keywords_embedding, sentence_embedding)\n",
        "      distancew = word2vec.wmdistance(keywords, sentence.split(' '))\n",
        "      cosine_distance = cosine(keywords_embedding, sentence_embedding)\n",
        "      cityblock_distance = cityblock(keywords_embedding, sentence_embedding)\n",
        "      canberra_distance = canberra(keywords_embedding, sentence_embedding)\n",
        "      euclidean_distance = euclidean(keywords_embedding, sentence_embedding) \n",
        "      minkowski_distance = minkowski(keywords_embedding, sentence_embedding, 3)\n",
        "      braycurtis_distance = braycurtis(keywords_embedding, sentence_embedding)\n",
        "      for cluster,words in clusters.items():\n",
        "        cluster_sentence =' '.join(words)\n",
        "        cluster_embedding = sentence_vectorizer.sent2vec(cluster_sentence)\n",
        "        if len(cluster_embedding)==0:\n",
        "          continue\n",
        "        similarity_cluster=get_cosine_similarity(cluster_embedding,sentence_embedding)\n",
        "        distancew_word = word2vec.wmdistance(words, sentence.split(' '))\n",
        "        cosine_distance_word = cosine(cluster_embedding, sentence_embedding)\n",
        "        cityblock_distance_word = cityblock(cluster_embedding, sentence_embedding)\n",
        "        canberra_distance_word = canberra(cluster_embedding, sentence_embedding)\n",
        "        euclidean_distance_word = euclidean(cluster_embedding, sentence_embedding) \n",
        "        minkowski_distance_word = minkowski(cluster_embedding, sentence_embedding, 3)\n",
        "        braycurtis_distance_word = braycurtis(cluster_embedding, sentence_embedding)\n",
        "\n",
        "          \n",
        "        clusters_df.loc[len(clusters_df)] = {'Category':category,'videoUrl':video_url,'Title':title,'Tags': key_tags,'cluster':cluster_sentence,'cluster_id':cluster,'Tags_count':len(keywords),'google_trends':sentence,\n",
        "                                      'EMD_cluster':distancew_word,'cosine_cluster':cosine_distance_word,'cityblock_cluster':cityblock_distance_word,\n",
        "                                      'canberra_distance_cluster':canberra_distance_word,'euclidean_cluster':euclidean_distance_word,'minkowski_cluster':minkowski_distance_word,'braycurtis_cluster':braycurtis_distance_word,\n",
        "                                      'similarity_word_2_vec_cluster':similarity_cluster,\n",
        "                                      'EMD':distancew,'cosine':cosine_distance,'cityblock':cityblock_distance,\n",
        "                                    'canberra_distance':canberra_distance,'euclidean':euclidean_distance,'minkowski':minkowski_distance,'braycurtis':braycurtis_distance,\n",
        "                                    'similarity_word_2_vec':similarity,\n",
        "                                    }"
      ],
      "execution_count": 0,
      "outputs": []
    },
    {
      "cell_type": "code",
      "metadata": {
        "id": "JM4x269XlN-0",
        "colab_type": "code",
        "cellView": "form",
        "colab": {}
      },
      "source": [
        "#@title Cluster level grouping\n",
        "__mask_greater = np.vectorize(lambda x, threshold: 1 if x > threshold else 0)\n",
        "__mask_lower = np.vectorize(lambda x, threshold: 1 if x < threshold else 0)\n",
        "max_phrases=10;  \n",
        "dummy=clusters_df.copy()\n",
        "dummy=dummy.loc[(dummy['similarity_word_2_vec']>0) & (dummy['similarity_word_2_vec_cluster']>0)].sort_values(['similarity_word_2_vec','similarity_word_2_vec_cluster'],ascending=[False,False]).copy()\n",
        "dummy['label_cosine_cluster'] = 0\n",
        "dummy['label_cityblock_cluster'] = 0\n",
        "dummy['label_canberra_distance_cluster'] = 0\n",
        "dummy['label_euclidean_cluster'] = 0\n",
        "dummy['label_minkowski_cluster'] = 0\n",
        "dummy['label_braycurtis_cluster'] = 0\n",
        "dummy['label_EMD_cluster'] = 0\n",
        "for row, group in dummy.loc[dummy['similarity_word_2_vec']>0].sort_values(['similarity_word_2_vec']).groupby(['Category','videoUrl','Tags','cluster_id']):\n",
        "    dummy.loc[group.index,'label_cosine_cluster']=__mask_lower(group['cosine_cluster'],group['cosine_cluster'].mean())\n",
        "    dummy.loc[group.index,'label_cityblock_cluster']=__mask_lower(group['cityblock_cluster'],group['cityblock_cluster'].mean())\n",
        "    dummy.loc[group.index,'label_canberra_distance_cluster']=__mask_lower(group['canberra_distance_cluster'],group['canberra_distance_cluster'].mean())\n",
        "    dummy.loc[group.index,'label_euclidean_cluster']=__mask_lower(group['euclidean_cluster'],group['euclidean_cluster'].mean())\n",
        "    dummy.loc[group.index,'label_minkowski_cluster']=__mask_lower(group['minkowski_cluster'],group['minkowski_cluster'].mean())\n",
        "    dummy.loc[group.index,'label_braycurtis_cluster']=__mask_lower(group['braycurtis_cluster'],group['braycurtis_cluster'].mean())\n",
        "    dummy.loc[group.index,'label_EMD_cluster']=__mask_lower(group['EMD_cluster'],group['EMD_cluster'].mean())\n",
        "\n",
        "intermediatedf= dummy.loc[dummy['similarity_word_2_vec']>0]\\\n",
        ".loc[(dummy['label_cosine_cluster']==1)&(dummy['label_EMD_cluster']==1)&(dummy['label_cityblock_cluster']==1)&(dummy['label_canberra_distance_cluster']==1)&(dummy['label_minkowski_cluster']==1)&(dummy['label_euclidean_cluster']==1)&(dummy['label_braycurtis_cluster']==1)]\\\n",
        ".sort_values(['similarity_word_2_vec', 'similarity_word_2_vec_cluster'],ascending=[False,False])\\\n",
        ".groupby(['Category','videoUrl','Tags','google_trends']).nth(0)\\\n",
        ".reset_index()\\\n",
        "\n",
        "intermediatedf.sort_values(['similarity_word_2_vec'],ascending=[False]).groupby(['Category','videoUrl','Tags'])['Category','videoUrl','Title','Tags','cluster','google_trends','similarity_word_2_vec'].head(max_phrases)\\\n",
        ".reset_index()\\\n",
        ".to_csv('cluster_similarity_sample{0}.csv'.format(number_of_tags))"
      ],
      "execution_count": 0,
      "outputs": []
    },
    {
      "cell_type": "markdown",
      "metadata": {
        "id": "bmmxbUVU4qUG",
        "colab_type": "text"
      },
      "source": [
        "*Word* level"
      ]
    },
    {
      "cell_type": "code",
      "metadata": {
        "id": "JgeW6w__4uJQ",
        "colab_type": "code",
        "cellView": "form",
        "colab": {}
      },
      "source": [
        "#@title Word level\n",
        "from gensim.models import Word2Vec,KeyedVectors\n",
        "import nltk\n",
        "from nltk.cluster import KMeansClusterer\n",
        "import numpy as np \n",
        "import re\n",
        "from nltk.corpus import stopwords\n",
        "\n",
        "import pandas as pd\n",
        "import numpy as np\n",
        "import ast\n",
        "import gensim\n",
        "from nltk.corpus import stopwords\n",
        "from tqdm import tqdm_notebook\n",
        "from nltk import word_tokenize\n",
        "from scipy.stats import skew, kurtosis\n",
        "from scipy.spatial.distance import cosine, cityblock, jaccard, canberra, euclidean, minkowski, braycurtis\n",
        "from nltk import word_tokenize\n",
        "\n",
        "\n",
        "  \n",
        "from sklearn import cluster,metrics\n",
        "import warnings\n",
        "warnings.filterwarnings('ignore')\n",
        "\n",
        "max_phrases=10\n",
        "word2vec.init_sims(replace=True)\n",
        "sentence_vectorizer= MySentences(word2vec)\n",
        "\n",
        "tags_df = pd.DataFrame(columns=['Category','videoUrl','Title','Tags','word', 'Tags_count','google_trends',\n",
        "                                    'EMD','cosine','cityblock',\n",
        "                                    'canberra_distance','euclidean','minkowski','braycurtis',\n",
        "                                    'similarity_word_2_vec','EMD_word','cosine_word','cityblock_word',\n",
        "                                    'canberra_distance_word','euclidean_word','minkowski_word','braycurtis_word',\n",
        "                                    'similarity_word_2_vec_word'])\n",
        "# Login to Google. Only need to run this once, the rest of requests will use the same session.\n",
        "\n",
        "\n",
        "number_of_tags=4\n",
        "# Login to Google. Only need to run this once, the rest of requests will use the same session.\n",
        "for video in video_df.itertuples():\n",
        "  print ('*'*100)\n",
        "  print (video)\n",
        "  category = video.video_category\n",
        "  video_url = video.url\n",
        "  tags = keywords_df[keywords_df['video_id']==video.id].Tag.values[:number_of_tags]\n",
        "  title= video.Title\n",
        "  # print ('*'*20,'tags',tags)\n",
        "  key_tags = get_tags_sentence(tags)\n",
        "  # print ('*'*20,'keytags',key_tags,len(key_tags))\n",
        "\n",
        "  if (len(key_tags)==0):\n",
        "    continue\n",
        "\n",
        "  keywords_embedding=sentence_vectorizer.sent2vec(key_tags)\n",
        "  sentences = []\n",
        "  sentences = google_trends[google_trends['Category']==category].google_trends\n",
        "  print (len(sentences), ' sentences ' )\n",
        "\n",
        "  for sentence in sentences :\n",
        "    \n",
        "    sentence_embedding = sentence_vectorizer.sent2vec(sentence)\n",
        "    if len(sentence_embedding)==0:\n",
        "      continue\n",
        "    similarity = get_cosine_similarity(keywords_embedding, sentence_embedding)\n",
        "    cosine_distance = cosine(keywords_embedding, sentence_embedding)\n",
        "    cityblock_distance = cityblock(keywords_embedding, sentence_embedding)\n",
        "    distancew = word2vec.wmdistance(key_tags, sentence)  \n",
        "    canberra_distance = canberra(keywords_embedding, sentence_embedding)\n",
        "    euclidean_distance = euclidean(keywords_embedding, sentence_embedding) \n",
        "    minkowski_distance = minkowski(keywords_embedding, sentence_embedding, 3)\n",
        "    braycurtis_distance = braycurtis(keywords_embedding, sentence_embedding)\n",
        "    for index, word in enumerate(key_tags.split()):\n",
        "      if (word not in word2vec.wv.vocab):\n",
        "        continue\n",
        "      word_embedding = sentence_vectorizer.sent2vec(word)\n",
        "      \n",
        "      similarity_word=get_cosine_similarity(word_embedding,sentence_embedding)\n",
        "      cosine_distance_word = cosine(word_embedding, sentence_embedding)\n",
        "      cityblock_distance_word = cityblock(word_embedding, sentence_embedding)\n",
        "      distancew_word = word2vec.wmdistance(word, sentence)\n",
        "      canberra_distance_word = canberra(word_embedding, sentence_embedding)\n",
        "      euclidean_distance_word = euclidean(word_embedding, sentence_embedding) \n",
        "      minkowski_distance_word = minkowski(word_embedding, sentence_embedding, 3)\n",
        "      braycurtis_distance_word = braycurtis(word_embedding, sentence_embedding)\n",
        "\n",
        "          \n",
        "      tags_df.loc[len(tags_df)] = {'Category':category,'videoUrl':video_url,'Title':title,'Tags':key_tags,'word':word,'Tags_count':len(tags),'google_trends':sentence,\n",
        "                                      'EMD_word':distancew_word,'cosine_word':cosine_distance_word,'cityblock_word':cityblock_distance_word,\n",
        "                                      'canberra_distance_word':canberra_distance_word,'euclidean_word':euclidean_distance_word,'minkowski_word':minkowski_distance_word,'braycurtis_word':braycurtis_distance_word,\n",
        "                                      'similarity_word_2_vec_word':similarity_word,\n",
        "                                   'EMD':distancew,'cosine':cosine_distance,'cityblock':cityblock_distance,\n",
        "                                    'canberra_distance':canberra_distance,'euclidean':euclidean_distance,'minkowski':minkowski_distance,'braycurtis':braycurtis_distance,\n",
        "                                    'similarity_word_2_vec':similarity,\n",
        "                                    }"
      ],
      "execution_count": 0,
      "outputs": []
    },
    {
      "cell_type": "code",
      "metadata": {
        "id": "eNEeR5s041HD",
        "colab_type": "code",
        "cellView": "form",
        "colab": {}
      },
      "source": [
        "#@title Word level grouping\n",
        "__mask_greater = np.vectorize(lambda x, threshold: 1 if x > threshold else 0)\n",
        "__mask_lower = np.vectorize(lambda x, threshold: 1 if x < threshold else 0)\n",
        "def weighting_match(x):\n",
        "  d={}\n",
        "  # d['similarity_word_2_vec']=   (x['word'].count() /x['Tags_count'].max())*x['similarity_word_2_vec'].mean()\n",
        "  d['similarity_word_2_vec']=   x['similarity_word_2_vec'].mean()\n",
        "  return pd.Series(d)\n",
        "\n",
        "all_df=pd.DataFrame()\n",
        "\n",
        "for key, group in tags_df.loc[((tags_df['similarity_word_2_vec_word']>0) & (tags_df['similarity_word_2_vec']>0))]\\\n",
        ".sort_values(['similarity_word_2_vec','similarity_word_2_vec_word'],ascending=[True,True])\\\n",
        ".groupby(['Category','videoUrl','Tags','word']):\n",
        "  grp = group.copy()\n",
        "  grp['label_EMD'] = __mask_lower(grp['EMD_word'],grp['EMD_word'].mean())\n",
        "  grp['label_cosine'] = __mask_lower(grp['cosine_word'],grp['cosine_word'].mean())\n",
        "  grp['label_cityblock'] = __mask_lower(grp['cityblock_word'],grp['cityblock_word'].mean())\n",
        "  grp['label_canberra_distance'] = __mask_lower(grp['canberra_distance_word'],grp['canberra_distance_word'].mean())\n",
        "  grp['label_euclidean'] = __mask_lower(grp['euclidean_word'],grp['euclidean_word'].mean())\n",
        "  grp['label_minkowski'] = __mask_lower(grp['minkowski_word'],grp['minkowski_word'].mean())\n",
        "  grp['label_braycurtis'] = __mask_lower(grp['braycurtis_word'],grp['braycurtis_word'].mean())\n",
        "  grp= grp.loc[(grp['label_euclidean']==1)&(grp['label_cosine']==1)&(grp['label_EMD']==1)&(grp['label_cityblock']==1)&(grp['label_canberra_distance']==1)&(grp['label_minkowski']==1)&(grp['label_braycurtis']==1)]\n",
        "  all_df= pd.concat([all_df,grp],axis=0,ignore_index=True)\n",
        "  \n",
        "\n",
        "intermediate_df = all_df.loc[((all_df['similarity_word_2_vec_word']>0) & (all_df['similarity_word_2_vec']>0))].sort_values(['similarity_word_2_vec'],ascending=[False])\\\n",
        ".groupby(['Category','videoUrl','Tags','Title','google_trends'])\\\n",
        ".apply(weighting_match).reset_index()\n",
        "\n",
        "intermediate_df.sort_values(['similarity_word_2_vec'],ascending=[False])\\\n",
        ".groupby(['Category','videoUrl','Tags','Title'])['Category','videoUrl','Title','Tags','similarity_word_2_vec','google_trends'].head(max_phrases)\\\n",
        ".to_csv('word_level_{0}.csv'.format(number_of_tags),index=False)\n",
        "\n",
        "# intermediate_df = all_df.loc[((all_df['similarity_word_2_vec_word']>0) & (all_df['similarity_word_2_vec']>0))].sort_values(['similarity_word_2_vec'],ascending=[False])\n",
        "\n",
        "# intermediate_df.groupby(['Category','videoUrl','Tags','Title'])['Category','videoUrl','Title','Tags','similarity_word_2_vec','google_trends'].head(max_phrases)\\\n",
        "# .to_csv('word_level_{0}.csv'.format(number_of_tags),index=False)"
      ],
      "execution_count": 0,
      "outputs": []
    },
    {
      "cell_type": "code",
      "metadata": {
        "id": "8jqER71uPUec",
        "colab_type": "code",
        "outputId": "8ca59839-e373-4b13-e76f-c980fe509d47",
        "colab": {
          "base_uri": "https://localhost:8080/",
          "height": 295
        }
      },
      "source": [
        "import pandas as pd\n",
        "import numpy as np\n",
        "import pandas as pd\n",
        "import seaborn as sns\n",
        "import matplotlib.pyplot as plt\n",
        "from scipy import stats\n",
        "import math\n",
        "from matplotlib.patches import Rectangle\n",
        "tags=4\n",
        "data=pd.DataFrame()\n",
        "\n",
        "\n",
        "sentence_df=pd.read_csv('word_level_{0}.csv'.format(tags))\n",
        "data['relevant']=sentence_df['similarity_word_2_vec']*sentence_df['Video_evaluation']\n",
        "data['irelevant']=sentence_df['similarity_word_2_vec']*(1-sentence_df['Video_evaluation'])\n",
        "binwidth = 0.05  # chose an arbitrary value here\n",
        "x=sentence_df['similarity_word_2_vec'].values\n",
        "fig, ax = plt.subplots()\n",
        "\n",
        "ax.hist([data['relevant'], data['irelevant']], bins=np.arange(min(x), max(x) + binwidth, binwidth),histtype='bar', stacked=True, label=['relevant','irrelevant'])\n",
        "\n",
        "plt.legend()\n",
        "plt.ylabel('number of tags')\n",
        "plt.xlabel('similarity')\n",
        "plt.title('similarity word level, {0} tags'.format(tags))\n",
        "plt.grid(True)\n"
      ],
      "execution_count": 0,
      "outputs": [
        {
          "output_type": "display_data",
          "data": {
            "image/png": "[encoded data removed]",
            "text/plain": [
              "<Figure size 432x288 with 1 Axes>"
            ]
          },
          "metadata": {
            "tags": [],
            "needs_background": "light"
          }
        }
      ]
    },
    {
      "cell_type": "code",
      "metadata": {
        "id": "J4TGflGyt1ui",
        "colab_type": "code",
        "outputId": "27829e67-e2b5-4bf7-cad1-46e059e1bb1e",
        "colab": {
          "base_uri": "https://localhost:8080/",
          "height": 1000
        }
      },
      "source": [
        "import pandas as pd\n",
        "import numpy as np\n",
        "import pandas as pd\n",
        "import seaborn as sns\n",
        "import matplotlib.pyplot as plt\n",
        "from scipy import stats\n",
        "import math\n",
        "import itertools\n",
        "from collections import OrderedDict\n",
        "from functools import partial\n",
        "\n",
        "import numpy as np\n",
        "import matplotlib.pyplot as plt\n",
        "import matplotlib.ticker as mticker\n",
        "from cycler import cycler\n",
        "\n",
        "\n",
        "min_x=2\n",
        "max_x=0\n",
        "file = 'sentence_similarity_sample{0}.csv'\n",
        "level='sentence'\n",
        "label='Video_evaluation_rank'\n",
        "for i,tag in enumerate(range(4,7,1)):\n",
        "  \n",
        "  sentence_df=pd.read_csv(file.format(tag))\n",
        "  x=sentence_df['similarity_word_2_vec'].values\n",
        "  min_x=min(min_x,min(x))\n",
        "  max_x=max(max_x,max(x))\n",
        "\n",
        "print (min_x,max_x)\n",
        "thresholds = np.arange(min_x, max_x-0.05, 0.05)\n",
        "fig, axs = plt.subplots(3, 2, figsize=(18, 9), tight_layout=True)\n",
        "\n",
        "for i,tag in enumerate(range(4,7,1)):\n",
        "  \n",
        "  sentence_df=pd.read_csv(file.format(tag))\n",
        "  data=pd.DataFrame(columns=['threshold','score','percent_videos','percent_rel','percent_rel_gte1'])\n",
        "  print ('*'*20)\n",
        "  for threshold in thresholds:\n",
        "    score=(sentence_df[(sentence_df['similarity_word_2_vec']>threshold) & (sentence_df[label]>0)][label]+1).mean()\n",
        "    percent_relevant=len(sentence_df[(sentence_df['similarity_word_2_vec']>threshold) & (sentence_df[label]>0)][label].values)/len(sentence_df[(sentence_df['similarity_word_2_vec']>threshold)]['Video_evaluation_rank'].values)\n",
        "    percent_relevant_gte1=len(sentence_df[(sentence_df['similarity_word_2_vec']>threshold) & (sentence_df[label]>1)][label].values)/len(sentence_df[(sentence_df['similarity_word_2_vec']>threshold)]['Video_evaluation_rank'].values)\n",
        "    percent_videos=len(sentence_df[(sentence_df['similarity_word_2_vec']>threshold)]['videoUrl'].unique())/len(sentence_df['videoUrl'].unique())\n",
        "    data= data.append({'threshold':threshold,'score':score,'percent_videos':percent_videos,'percent_rel': percent_relevant,'percent_rel_gte1': percent_relevant_gte1},ignore_index=True)\n",
        "  print(data)                           \n",
        "  axs[i][0].plot(data['threshold'],data['score'],label='average relevance')\n",
        "  axs[i][1].plot(data['threshold'],data['percent_videos'],label='% of videos with at least on tag above the similarity threshold',color='green')\n",
        "  axs[i][1].plot(data['threshold'],data['percent_rel'],label='% of tags above the similarity treshold with relevance >1',color='orange')\n",
        "  axs[i][1].plot(data['threshold'],data['percent_rel_gte1'],label='% of tags above the similarity treshold with relevance >2',color='black')\n",
        "\n",
        "  axs[i][0].set_xlabel('threshold')\n",
        "  axs[i][1].set_xlabel('threshold')\n",
        "  axs[i][0].set_ylabel('average relevance')\n",
        "  axs[i][1].set_ylabel('percentage')\n",
        "\n",
        "\n",
        "  axs[i][0].set_title('{0} level, {1} initial tags'.format(level,tag))\n",
        "  axs[i][1].set_title('{0} level, {1} initial tags'.format(level,tag))\n",
        "  axs[i][0].grid(True)\n",
        "  axs[i][1].grid(True)\n",
        "  axs[i][1].legend()\n",
        "  axs[i][0].legend()\n",
        "\n"
      ],
      "execution_count": 0,
      "outputs": [
        {
          "output_type": "stream",
          "text": [
            "/usr/local/lib/python3.6/dist-packages/statsmodels/tools/_testing.py:19: FutureWarning: pandas.util.testing is deprecated. Use the functions in the public API at pandas.testing instead.\n",
            "  import pandas.util.testing as tm\n"
          ],
          "name": "stderr"
        },
        {
          "output_type": "stream",
          "text": [
            "0.283574134 0.9325279000000001\n",
            "********************\n",
            "    threshold     score  percent_videos  percent_rel  percent_rel_gte1\n",
            "0    0.283574  4.538462           1.000     0.162500          0.162500\n",
            "1    0.333574  4.538462           1.000     0.162500          0.162500\n",
            "2    0.383574  4.454545           1.000     0.166667          0.166667\n",
            "3    0.433574  4.454545           1.000     0.180328          0.180328\n",
            "4    0.483574  4.375000           0.750     0.163265          0.163265\n",
            "5    0.533574  4.800000           0.625     0.151515          0.151515\n",
            "6    0.583574  4.800000           0.625     0.185185          0.185185\n",
            "7    0.633574  4.800000           0.500     0.454545          0.454545\n",
            "8    0.683574  5.000000           0.250     0.666667          0.666667\n",
            "9    0.733574  5.000000           0.125     1.000000          1.000000\n",
            "10   0.783574  5.000000           0.125     1.000000          1.000000\n",
            "11   0.833574  5.000000           0.125     1.000000          1.000000\n",
            "********************\n",
            "    threshold     score  percent_videos  percent_rel  percent_rel_gte1\n",
            "0    0.283574  4.600000           1.000     0.126582          0.113924\n",
            "1    0.333574  4.600000           1.000     0.138889          0.125000\n",
            "2    0.383574  4.555556           0.875     0.128571          0.114286\n",
            "3    0.433574  4.555556           0.875     0.128571          0.114286\n",
            "4    0.483574  4.500000           0.875     0.135593          0.118644\n",
            "5    0.533574  4.428571           0.875     0.145833          0.125000\n",
            "6    0.583574  4.400000           0.875     0.172414          0.137931\n",
            "7    0.633574  5.000000           0.375     0.100000          0.100000\n",
            "8    0.683574  5.000000           0.250     0.250000          0.250000\n",
            "9    0.733574  5.000000           0.125     1.000000          1.000000\n",
            "10   0.783574  5.000000           0.125     1.000000          1.000000\n",
            "11   0.833574  5.000000           0.125     1.000000          1.000000\n",
            "********************\n",
            "    threshold     score  percent_videos  percent_rel  percent_rel_gte1\n",
            "0    0.283574  4.400000           1.000     0.125000          0.125000\n",
            "1    0.333574  4.400000           1.000     0.125000          0.125000\n",
            "2    0.383574  4.333333           1.000     0.125000          0.125000\n",
            "3    0.433574  4.333333           0.875     0.128571          0.128571\n",
            "4    0.483574  4.500000           0.875     0.137931          0.137931\n",
            "5    0.533574  4.428571           0.875     0.166667          0.166667\n",
            "6    0.583574  4.500000           0.875     0.160000          0.160000\n",
            "7    0.633574  5.000000           0.500     0.125000          0.125000\n",
            "8    0.683574  5.000000           0.250     0.142857          0.142857\n",
            "9    0.733574  5.000000           0.250     0.500000          0.500000\n",
            "10   0.783574  5.000000           0.125     1.000000          1.000000\n",
            "11   0.833574  5.000000           0.125     1.000000          1.000000\n"
          ],
          "name": "stdout"
        },
        {
          "output_type": "display_data",
          "data": {
            "image/png": "[encoded data removed]",
            "text/plain": [
              "<Figure size 1296x648 with 6 Axes>"
            ]
          },
          "metadata": {
            "tags": [],
            "needs_background": "light"
          }
        }
      ]
    },
    {
      "cell_type": "code",
      "metadata": {
        "id": "aFPArKsdDzfg",
        "colab_type": "code",
        "outputId": "d32d3bdf-77ac-412e-f7c9-a684e027ed3d",
        "colab": {
          "base_uri": "https://localhost:8080/",
          "height": 1000
        }
      },
      "source": [
        "import pandas as pd\n",
        "import numpy as np\n",
        "import pandas as pd\n",
        "import seaborn as sns\n",
        "import matplotlib.pyplot as plt\n",
        "from scipy import stats\n",
        "import math\n",
        "import itertools\n",
        "from collections import OrderedDict\n",
        "from functools import partial\n",
        "\n",
        "import numpy as np\n",
        "import matplotlib.pyplot as plt\n",
        "import matplotlib.ticker as mticker\n",
        "from cycler import cycler\n",
        "\n",
        "\n",
        "min_x=2\n",
        "max_x=0\n",
        "file = 'word_level_{0}.csv'\n",
        "level='word'\n",
        "label='Video_evaluation_rank'\n",
        "for i,tag in enumerate(range(4,7,1)):\n",
        "  \n",
        "  sentence_df=pd.read_csv(file.format(tag))\n",
        "  x=sentence_df['similarity_word_2_vec'].values\n",
        "  min_x=min(min_x,min(x))\n",
        "  max_x=max(max_x,max(x))\n",
        "\n",
        "print (min_x,max_x)\n",
        "thresholds = [0.6,0.7]\n",
        "ratings = np.arange(0,5,step=1, dtype= int)\n",
        "fig, axs = plt.subplots(3, 1, figsize=(9, 9), tight_layout=True)\n",
        "\n",
        "for i,tag in enumerate(range(4,7,1)):\n",
        "  \n",
        "  sentence_df=pd.read_csv(file.format(tag))\n",
        "  data=pd.DataFrame(columns=['threshold','rating','percent_videos'])\n",
        "  print ('*'*20)\n",
        "  for threshold in thresholds:\n",
        "    print ('*'*20, threshold)\n",
        "    for rating in ratings:\n",
        "          # print (sentence_df[(sentence_df['similarity_word_2_vec']>threshold) & (sentence_df[label]>=rating)][['videoUrl',label,'similarity_word_2_vec']].head(20))\n",
        "          numerator = len(sentence_df[(sentence_df['similarity_word_2_vec']>threshold) & (sentence_df[label]>=rating)]['videoUrl'].unique())\n",
        "          # denominator = len(sentence_df[(sentence_df['similarity_word_2_vec']>threshold)]['videoUrl'].unique())\n",
        "          denominator = len(sentence_df['videoUrl'].unique())\n",
        "          # print (rating, denominator,numerator)\n",
        "          percent_videos=numerator/denominator\n",
        "          data= data.append({'threshold':threshold,'rating':rating, 'percent_videos':percent_videos},ignore_index=True)\n",
        "  print(data)                 \n",
        "  axs[i].plot(data[data['threshold']==0.6]['rating']+1,data[data['threshold']==0.6]['percent_videos'],label='% of videos with similarity above 0.6 and at least one tag above or equal to relevance',color='green')\n",
        "  axs[i].plot(data[data['threshold']==0.7]['rating']+1,data[data['threshold']==0.7]['percent_videos'],label='% of videos with similarity above 0.7 and at least one tag above or equal to relevance',color='orange')\n",
        "\n",
        "\n",
        "  axs[i].set_xlabel('relevence')\n",
        "  axs[i].set_ylabel('percentage')\n",
        "  axs[i].set_xticks(ratings+1)\n",
        "  axs[i].set_yticks(np.arange(0,1,0.1))\n",
        "\n",
        "  axs[i].set_title('{0} level, {1} initial tags'.format(level,tag))\n",
        "  axs[i].grid(True)\n",
        "  axs[i].legend()"
      ],
      "execution_count": 0,
      "outputs": [
        {
          "output_type": "stream",
          "text": [
            "0.294415295 0.9325279000000001\n",
            "********************\n",
            "******************** 0.6\n",
            "******************** 0.7\n",
            "   threshold  rating  percent_videos\n",
            "0        0.6     0.0           0.625\n",
            "1        0.6     1.0           0.500\n",
            "2        0.6     2.0           0.500\n",
            "3        0.6     3.0           0.500\n",
            "4        0.6     4.0           0.500\n",
            "5        0.7     0.0           0.250\n",
            "6        0.7     1.0           0.250\n",
            "7        0.7     2.0           0.250\n",
            "8        0.7     3.0           0.125\n",
            "9        0.7     4.0           0.125\n",
            "********************\n",
            "******************** 0.6\n",
            "******************** 0.7\n",
            "   threshold  rating  percent_videos\n",
            "0        0.6     0.0           0.875\n",
            "1        0.6     1.0           0.500\n",
            "2        0.6     2.0           0.500\n",
            "3        0.6     3.0           0.500\n",
            "4        0.6     4.0           0.375\n",
            "5        0.7     0.0           0.250\n",
            "6        0.7     1.0           0.125\n",
            "7        0.7     2.0           0.125\n",
            "8        0.7     3.0           0.125\n",
            "9        0.7     4.0           0.125\n",
            "********************\n",
            "******************** 0.6\n",
            "******************** 0.7\n",
            "   threshold  rating  percent_videos\n",
            "0        0.6     0.0           0.750\n",
            "1        0.6     1.0           0.375\n",
            "2        0.6     2.0           0.375\n",
            "3        0.6     3.0           0.375\n",
            "4        0.6     4.0           0.375\n",
            "5        0.7     0.0           0.250\n",
            "6        0.7     1.0           0.125\n",
            "7        0.7     2.0           0.125\n",
            "8        0.7     3.0           0.125\n",
            "9        0.7     4.0           0.125\n"
          ],
          "name": "stdout"
        },
        {
          "output_type": "display_data",
          "data": {
            "image/png": "[encoded data removed]",
            "text/plain": [
              "<Figure size 648x648 with 3 Axes>"
            ]
          },
          "metadata": {
            "tags": [],
            "needs_background": "light"
          }
        }
      ]
    },
    {
      "cell_type": "code",
      "metadata": {
        "id": "PRleIpJj8-RI",
        "colab_type": "code",
        "outputId": "f1d3d429-8334-4123-bfce-8ad33322befc",
        "colab": {
          "base_uri": "https://localhost:8080/",
          "height": 1000
        }
      },
      "source": [
        "import pandas as pd\n",
        "import numpy as np\n",
        "import pandas as pd\n",
        "import seaborn as sns\n",
        "import matplotlib.pyplot as plt\n",
        "from scipy import stats\n",
        "import math\n",
        "import itertools\n",
        "from collections import OrderedDict\n",
        "from functools import partial\n",
        "\n",
        "import numpy as np\n",
        "import matplotlib.pyplot as plt\n",
        "import matplotlib.ticker as mticker\n",
        "from cycler import cycler\n",
        "from textwrap import wrap\n",
        "\n",
        "def count_ratings(x,threshold, rating,label):\n",
        "  d={}\n",
        "  # # print ('*'*20)\n",
        "  # # print (x.iloc[0]['videoUrl'])\n",
        "  # # d['higher_{0}'.format(rating)]=len(x[(x[label]>=rating) & (x['similarity_word_2_vec']>=threshold)])\n",
        "  # # d['lower_{0}'.format(rating)]=len(x[(x[label]<rating) & (x['similarity_word_2_vec']>=threshold)])\n",
        "  # x0=x.copy()\n",
        "  # x0['higher']=0\n",
        "  # x0['lower']=0\n",
        "  # # # x0.loc[(x0[label]>=rating) & (x0['similarity_word_2_vec']>=threshold),'higher']=1\n",
        "  # # # x0.loc[(x0[label]<rating-1) & (x0['similarity_word_2_vec']>=threshold) , 'lower']=1\n",
        "  \n",
        "  # # d['higher_{0}'.format(rating)]= len(x0[(x0['higher']==1) & (x0['lower']==0)])\n",
        "  # x0=x0[x0['similarity_word_2_vec']>=threshold]\n",
        "  # length=len(x0)\n",
        "  # if (len(x0[x0[label]>=rating-1])==length) and (len(x0[x0[label]>=rating])>=1):\n",
        "  #     d['higher_{0}'.format(rating)]=1 \n",
        "  # else:\n",
        "  #     d['higher_{0}'.format(rating)]=0\n",
        "  x0=x.copy()\n",
        "  x0=x0[x0['similarity_word_2_vec']>=threshold]\n",
        "  # count=x0[x0['similarity_word_2_vec']>=threshold]\n",
        "  count_higher=len(x0[x0[label]>=rating])\n",
        "  count_lower=len(x0[x0[label]<rating-1])\n",
        "  if (count_higher>=1) and (count_lower==0):\n",
        "    d['higher_{0}'.format(rating)]=1\n",
        "  else:\n",
        "    d['higher_{0}'.format(rating)]=0\n",
        "\n",
        "  return pd.Series(d)\n",
        "\n",
        "\n",
        "min_x=2\n",
        "max_x=0\n",
        "file = 'word_level_{0}.csv'\n",
        "level='word'\n",
        "label='Tag_evaluation_rank'\n",
        "for i,tag in enumerate(range(4,7,1)):\n",
        "  \n",
        "  sentence_df=pd.read_csv(file.format(tag))\n",
        "  x=sentence_df['similarity_word_2_vec'].values\n",
        "  min_x=min(min_x,min(x))\n",
        "  max_x=max(max_x,max(x))\n",
        "\n",
        "print (min_x,max_x)\n",
        "thresholds = np.arange(0.4, 0.9-0.05, 0.05)\n",
        "ratings = np.arange(0,5,step=1, dtype= int)\n",
        "fig, axs = plt.subplots(3, 1, figsize=(9, 9), constrained_layout=True)\n",
        "\n",
        "for i,tag in enumerate(range(4,7,1)):\n",
        "  \n",
        "  sentence_df=pd.read_csv(file.format(tag))\n",
        "  data=pd.DataFrame(columns=['threshold','percent_videos3','percent_videos4'])\n",
        "  print ('*'*20,tag,'*'*20)\n",
        "  for threshold in thresholds:\n",
        "    print ('*'*20, threshold)\n",
        "    # print (sentence_df[(sentence_df['similarity_word_2_vec']>threshold) & (sentence_df[label]>=rating)][['videoUrl',label,'similarity_word_2_vec']].head(20))\n",
        "    dummy = sentence_df.groupby(['videoUrl']).apply(lambda x: count_ratings(x,threshold,2,label)).reset_index()\n",
        "    \n",
        "    numerator_3= len(dummy[dummy['higher_2']>=1]['videoUrl'].unique())\n",
        "\n",
        "    dummy = sentence_df.groupby(['videoUrl']).apply(lambda x: count_ratings(x,threshold,3,label)).reset_index()\n",
        "\n",
        "    # print (dummy)\n",
        "    # print(dummy[dummy['higher_3']>=1]['videoUrl'].unique())\n",
        "    numerator_4=len(dummy[dummy['higher_3']>=1]['videoUrl'].unique())\n",
        "    denominator = len(sentence_df['videoUrl'].unique())\n",
        "    percent_videos_3=numerator_3/denominator\n",
        "    percent_videos_4=numerator_4/denominator\n",
        "    data= data.append({'threshold':threshold,'percent_videos3':percent_videos_3,'percent_videos4':percent_videos_4},ignore_index=True)\n",
        "  print(data)                 \n",
        "  axs[i].plot(data['threshold'],data['percent_videos3'],label='% of videos all tags having similarity above threshold and relevance higher than 3',color='green')\n",
        "  # axs[i].plot(data['threshold'],data['percent_videos4'],label='% of videos all tags having similarity above threshold and relevance higher than 4',color='orange')\n",
        "  axs[i].set_xlabel('threshold')\n",
        "  axs[i].set_ylabel('percentage')\n",
        "  # axs[i].set_xticks(ratings+1)\n",
        "  # axs[i].set_yticks(np.arange(0,1,0.1))\n",
        "\n",
        "  axs[i].set_title('{0} level, {1} initial tags'.format(level,tag))\n",
        "  axs[i].grid(True)\n",
        "  axs[i].legend()\n",
        "# fig.subplots_adjust(top=0.95) # pad a little\n",
        "fig.suptitle(\"\\n\".join(wrap('Percent of videos with at least a tag rated above 4, no tag rated bellow 3 for all tags with similarity higher than the threshold',60)))"
      ],
      "execution_count": 78,
      "outputs": [
        {
          "output_type": "stream",
          "text": [
            "0.294415295 0.9325279000000001\n",
            "******************** 4 ********************\n",
            "******************** 0.4\n",
            "******************** 0.45\n",
            "******************** 0.5\n",
            "******************** 0.55\n",
            "******************** 0.6\n",
            "******************** 0.6499999999999999\n",
            "******************** 0.7\n",
            "******************** 0.75\n",
            "******************** 0.7999999999999999\n",
            "   threshold  percent_videos3  percent_videos4\n",
            "0       0.40            0.125            0.125\n",
            "1       0.45            0.000            0.000\n",
            "2       0.50            0.250            0.250\n",
            "3       0.55            0.125            0.125\n",
            "4       0.60            0.125            0.125\n",
            "5       0.65            0.375            0.375\n",
            "6       0.70            0.250            0.125\n",
            "7       0.75            0.250            0.125\n",
            "8       0.80            0.125            0.125\n",
            "******************** 5 ********************\n",
            "******************** 0.4\n",
            "******************** 0.45\n",
            "******************** 0.5\n",
            "******************** 0.55\n",
            "******************** 0.6\n",
            "******************** 0.6499999999999999\n",
            "******************** 0.7\n",
            "******************** 0.75\n",
            "******************** 0.7999999999999999\n",
            "   threshold  percent_videos3  percent_videos4\n",
            "0       0.40            0.000            0.000\n",
            "1       0.45            0.000            0.000\n",
            "2       0.50            0.125            0.125\n",
            "3       0.55            0.250            0.250\n",
            "4       0.60            0.375            0.375\n",
            "5       0.65            0.250            0.250\n",
            "6       0.70            0.250            0.250\n",
            "7       0.75            0.125            0.125\n",
            "8       0.80            0.125            0.125\n",
            "******************** 6 ********************\n",
            "******************** 0.4\n",
            "******************** 0.45\n",
            "******************** 0.5\n",
            "******************** 0.55\n",
            "******************** 0.6\n",
            "******************** 0.6499999999999999\n",
            "******************** 0.7\n",
            "******************** 0.75\n",
            "******************** 0.7999999999999999\n",
            "   threshold  percent_videos3  percent_videos4\n",
            "0       0.40            0.125            0.125\n",
            "1       0.45            0.000            0.000\n",
            "2       0.50            0.125            0.125\n",
            "3       0.55            0.250            0.250\n",
            "4       0.60            0.375            0.375\n",
            "5       0.65            0.125            0.125\n",
            "6       0.70            0.125            0.125\n",
            "7       0.75            0.250            0.125\n",
            "8       0.80            0.125            0.125\n"
          ],
          "name": "stdout"
        },
        {
          "output_type": "execute_result",
          "data": {
            "text/plain": [
              "Text(0.5, 0.98, 'Percent of videos with at least a tag rated above 4, no tag\\nrated bellow 3 for all tags with similarity higher than the\\nthreshold')"
            ]
          },
          "metadata": {
            "tags": []
          },
          "execution_count": 78
        },
        {
          "output_type": "display_data",
          "data": {
            "image/png": "[encoded data removed]",
            "text/plain": [
              "<Figure size 648x648 with 3 Axes>"
            ]
          },
          "metadata": {
            "tags": [],
            "needs_background": "light"
          }
        }
      ]
    },
    {
      "cell_type": "code",
      "metadata": {
        "id": "-kLUdnPNrux1",
        "colab_type": "code",
        "outputId": "842c1995-37a9-49ac-c008-34237444d5d6",
        "colab": {
          "base_uri": "https://localhost:8080/",
          "height": 119
        }
      },
      "source": [
        "sentence_df[sentence_df['similarity_word_2_vec']>=0.6]['videoUrl'].unique()"
      ],
      "execution_count": 0,
      "outputs": [
        {
          "output_type": "execute_result",
          "data": {
            "text/plain": [
              "array(['https://www.youtube.com/watch?v=4jk0Cq_vU2A',\n",
              "       'https://www.youtube.com/watch?v=9Hh_vdDk4Kg',\n",
              "       'https://www.youtube.com/watch?v=Bbk5RcH0bbQ',\n",
              "       'https://www.youtube.com/watch?v=c_XnMwhAI4I',\n",
              "       'https://www.youtube.com/watch?v=J6eJtNvTWII',\n",
              "       'https://www.youtube.com/watch?v=XMA7r6xlwH8'], dtype=object)"
            ]
          },
          "metadata": {
            "tags": []
          },
          "execution_count": 20
        }
      ]
    },
    {
      "cell_type": "code",
      "metadata": {
        "id": "TEUAt23tsAVB",
        "colab_type": "code",
        "outputId": "03b436b7-21c8-49b1-edff-ff3fe32c6990",
        "colab": {
          "base_uri": "https://localhost:8080/",
          "height": 1000
        }
      },
      "source": [
        "sentence_df[sentence_df['videoUrl']=='https://www.youtube.com/watch?v=J6eJtNvTWII']"
      ],
      "execution_count": 0,
      "outputs": [
        {
          "output_type": "execute_result",
          "data": {
            "text/html": [
              "<div>\n",
              "<style scoped>\n",
              "    .dataframe tbody tr th:only-of-type {\n",
              "        vertical-align: middle;\n",
              "    }\n",
              "\n",
              "    .dataframe tbody tr th {\n",
              "        vertical-align: top;\n",
              "    }\n",
              "\n",
              "    .dataframe thead th {\n",
              "        text-align: right;\n",
              "    }\n",
              "</style>\n",
              "<table border=\"1\" class=\"dataframe\">\n",
              "  <thead>\n",
              "    <tr style=\"text-align: right;\">\n",
              "      <th></th>\n",
              "      <th>Unnamed: 0</th>\n",
              "      <th>index</th>\n",
              "      <th>Category</th>\n",
              "      <th>videoUrl</th>\n",
              "      <th>Title</th>\n",
              "      <th>Tags</th>\n",
              "      <th>cluster</th>\n",
              "      <th>google_trends</th>\n",
              "      <th>similarity_word_2_vec</th>\n",
              "      <th>Video_evaluation</th>\n",
              "      <th>Tag_evaluation</th>\n",
              "      <th>Video_evaluation_rank</th>\n",
              "      <th>Tag_evaluation_rank</th>\n",
              "    </tr>\n",
              "  </thead>\n",
              "  <tbody>\n",
              "    <tr>\n",
              "      <th>40</th>\n",
              "      <td>2</td>\n",
              "      <td>449</td>\n",
              "      <td>Food &amp; Drinks</td>\n",
              "      <td>https://www.youtube.com/watch?v=J6eJtNvTWII</td>\n",
              "      <td>HOW TO MAKE THIN n CRISPY POTATO CHIPS</td>\n",
              "      <td>cooking show, white sugar, butter, simplecooki...</td>\n",
              "      <td>butter cooking baking</td>\n",
              "      <td>baking bread</td>\n",
              "      <td>0.761883</td>\n",
              "      <td>0</td>\n",
              "      <td>1</td>\n",
              "      <td>0</td>\n",
              "      <td>3</td>\n",
              "    </tr>\n",
              "    <tr>\n",
              "      <th>41</th>\n",
              "      <td>4</td>\n",
              "      <td>554</td>\n",
              "      <td>Food &amp; Drinks</td>\n",
              "      <td>https://www.youtube.com/watch?v=J6eJtNvTWII</td>\n",
              "      <td>HOW TO MAKE THIN n CRISPY POTATO CHIPS</td>\n",
              "      <td>cooking show, white sugar, butter, simplecooki...</td>\n",
              "      <td>butter cooking baking</td>\n",
              "      <td>garlic bread recipe</td>\n",
              "      <td>0.713766</td>\n",
              "      <td>0</td>\n",
              "      <td>0</td>\n",
              "      <td>0</td>\n",
              "      <td>0</td>\n",
              "    </tr>\n",
              "    <tr>\n",
              "      <th>42</th>\n",
              "      <td>5</td>\n",
              "      <td>454</td>\n",
              "      <td>Food &amp; Drinks</td>\n",
              "      <td>https://www.youtube.com/watch?v=J6eJtNvTWII</td>\n",
              "      <td>HOW TO MAKE THIN n CRISPY POTATO CHIPS</td>\n",
              "      <td>cooking show, white sugar, butter, simplecooki...</td>\n",
              "      <td>butter cooking baking</td>\n",
              "      <td>banana bread recipe moist</td>\n",
              "      <td>0.701817</td>\n",
              "      <td>0</td>\n",
              "      <td>1</td>\n",
              "      <td>0</td>\n",
              "      <td>3</td>\n",
              "    </tr>\n",
              "    <tr>\n",
              "      <th>43</th>\n",
              "      <td>6</td>\n",
              "      <td>450</td>\n",
              "      <td>Food &amp; Drinks</td>\n",
              "      <td>https://www.youtube.com/watch?v=J6eJtNvTWII</td>\n",
              "      <td>HOW TO MAKE THIN n CRISPY POTATO CHIPS</td>\n",
              "      <td>cooking show, white sugar, butter, simplecooki...</td>\n",
              "      <td>butter cooking baking</td>\n",
              "      <td>baking cakes</td>\n",
              "      <td>0.699889</td>\n",
              "      <td>0</td>\n",
              "      <td>1</td>\n",
              "      <td>0</td>\n",
              "      <td>4</td>\n",
              "    </tr>\n",
              "    <tr>\n",
              "      <th>44</th>\n",
              "      <td>7</td>\n",
              "      <td>470</td>\n",
              "      <td>Food &amp; Drinks</td>\n",
              "      <td>https://www.youtube.com/watch?v=J6eJtNvTWII</td>\n",
              "      <td>HOW TO MAKE THIN n CRISPY POTATO CHIPS</td>\n",
              "      <td>cooking show, white sugar, butter, simplecooki...</td>\n",
              "      <td>butter cooking baking</td>\n",
              "      <td>butter chicken</td>\n",
              "      <td>0.694417</td>\n",
              "      <td>0</td>\n",
              "      <td>0</td>\n",
              "      <td>0</td>\n",
              "      <td>0</td>\n",
              "    </tr>\n",
              "    <tr>\n",
              "      <th>45</th>\n",
              "      <td>9</td>\n",
              "      <td>467</td>\n",
              "      <td>Food &amp; Drinks</td>\n",
              "      <td>https://www.youtube.com/watch?v=J6eJtNvTWII</td>\n",
              "      <td>HOW TO MAKE THIN n CRISPY POTATO CHIPS</td>\n",
              "      <td>cooking show, white sugar, butter, simplecooki...</td>\n",
              "      <td>butter cooking baking</td>\n",
              "      <td>bread pudding</td>\n",
              "      <td>0.683450</td>\n",
              "      <td>0</td>\n",
              "      <td>1</td>\n",
              "      <td>0</td>\n",
              "      <td>4</td>\n",
              "    </tr>\n",
              "    <tr>\n",
              "      <th>46</th>\n",
              "      <td>10</td>\n",
              "      <td>621</td>\n",
              "      <td>Food &amp; Drinks</td>\n",
              "      <td>https://www.youtube.com/watch?v=J6eJtNvTWII</td>\n",
              "      <td>HOW TO MAKE THIN n CRISPY POTATO CHIPS</td>\n",
              "      <td>cooking show, white sugar, butter, simplecooki...</td>\n",
              "      <td>butter cooking baking</td>\n",
              "      <td>no knead bread</td>\n",
              "      <td>0.681086</td>\n",
              "      <td>0</td>\n",
              "      <td>1</td>\n",
              "      <td>0</td>\n",
              "      <td>2</td>\n",
              "    </tr>\n",
              "    <tr>\n",
              "      <th>47</th>\n",
              "      <td>11</td>\n",
              "      <td>521</td>\n",
              "      <td>Food &amp; Drinks</td>\n",
              "      <td>https://www.youtube.com/watch?v=J6eJtNvTWII</td>\n",
              "      <td>HOW TO MAKE THIN n CRISPY POTATO CHIPS</td>\n",
              "      <td>cooking show, white sugar, butter, simplecooki...</td>\n",
              "      <td>butter cooking baking</td>\n",
              "      <td>cream cheese pound cake</td>\n",
              "      <td>0.677371</td>\n",
              "      <td>0</td>\n",
              "      <td>0</td>\n",
              "      <td>0</td>\n",
              "      <td>0</td>\n",
              "    </tr>\n",
              "    <tr>\n",
              "      <th>48</th>\n",
              "      <td>12</td>\n",
              "      <td>453</td>\n",
              "      <td>Food &amp; Drinks</td>\n",
              "      <td>https://www.youtube.com/watch?v=J6eJtNvTWII</td>\n",
              "      <td>HOW TO MAKE THIN n CRISPY POTATO CHIPS</td>\n",
              "      <td>cooking show, white sugar, butter, simplecooki...</td>\n",
              "      <td>butter cooking baking</td>\n",
              "      <td>banana bread recipe</td>\n",
              "      <td>0.677164</td>\n",
              "      <td>0</td>\n",
              "      <td>0</td>\n",
              "      <td>0</td>\n",
              "      <td>0</td>\n",
              "    </tr>\n",
              "    <tr>\n",
              "      <th>49</th>\n",
              "      <td>14</td>\n",
              "      <td>597</td>\n",
              "      <td>Food &amp; Drinks</td>\n",
              "      <td>https://www.youtube.com/watch?v=J6eJtNvTWII</td>\n",
              "      <td>HOW TO MAKE THIN n CRISPY POTATO CHIPS</td>\n",
              "      <td>cooking show, white sugar, butter, simplecooki...</td>\n",
              "      <td>butter cooking baking</td>\n",
              "      <td>jenny can cook bread</td>\n",
              "      <td>0.648553</td>\n",
              "      <td>0</td>\n",
              "      <td>1</td>\n",
              "      <td>0</td>\n",
              "      <td>1</td>\n",
              "    </tr>\n",
              "  </tbody>\n",
              "</table>\n",
              "</div>"
            ],
            "text/plain": [
              "    Unnamed: 0  index  ... Video_evaluation_rank Tag_evaluation_rank\n",
              "40           2    449  ...                     0                   3\n",
              "41           4    554  ...                     0                   0\n",
              "42           5    454  ...                     0                   3\n",
              "43           6    450  ...                     0                   4\n",
              "44           7    470  ...                     0                   0\n",
              "45           9    467  ...                     0                   4\n",
              "46          10    621  ...                     0                   2\n",
              "47          11    521  ...                     0                   0\n",
              "48          12    453  ...                     0                   0\n",
              "49          14    597  ...                     0                   1\n",
              "\n",
              "[10 rows x 13 columns]"
            ]
          },
          "metadata": {
            "tags": []
          },
          "execution_count": 25
        }
      ]
    }
  ]
}