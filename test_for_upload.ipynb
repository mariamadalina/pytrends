{
  "nbformat": 4,
  "nbformat_minor": 0,
  "metadata": {
    "colab": {
      "name": "Copy of Untitled11.ipynb",
      "provenance": [],
      "collapsed_sections": [],
      "mount_file_id": "18gHPLHaShsCvMh74_v_uTPECEjLAoUwP",
      "authorship_tag": "ABX9TyNVI57L+3nMBk7I6AmzyPb7",
      "include_colab_link": true
    },
    "kernelspec": {
      "name": "python3",
      "display_name": "Python 3"
    }
  },
  "cells": [
    {
      "cell_type": "markdown",
      "metadata": {
        "id": "view-in-github",
        "colab_type": "text"
      },
      "source": [
        "<a href=\"https://colab.research.google.com/github/mariamadalina/pytrends/blob/master/test_for_upload.ipynb\" target=\"_parent\"><img src=\"https://colab.research.google.com/assets/colab-badge.svg\" alt=\"Open In Colab\"/></a>"
      ]
    },
    {
      "cell_type": "code",
      "metadata": {
        "id": "G5UNVidnWUHE",
        "colab_type": "code",
        "outputId": "da0708db-216c-4340-9e27-214f6e53527b",
        "colab": {
          "base_uri": "https://localhost:8080/",
          "height": 34
        }
      },
      "source": [
        "from os.path import join\n",
        "from google.colab import drive\n",
        "\n",
        "ROOT = \"/content/drive\"\n",
        "drive.mount(ROOT)"
      ],
      "execution_count": 0,
      "outputs": [
        {
          "output_type": "stream",
          "text": [
            "Drive already mounted at /content/drive; to attempt to forcibly remount, call drive.mount(\"/content/drive\", force_remount=True).\n"
          ],
          "name": "stdout"
        }
      ]
    },
    {
      "cell_type": "code",
      "metadata": {
        "id": "H9bvDs45XiJj",
        "colab_type": "code",
        "outputId": "0222fbef-42a4-4fb4-b76c-cce049a6784e",
        "colab": {
          "base_uri": "https://localhost:8080/",
          "height": 51
        }
      },
      "source": [
        "PROJ = \"My Drive/PhDColab/Workspace\" # This is a custom path.\n",
        "PROJECT_PATH = join(ROOT, PROJ)\n",
        "!mkdir \"{PROJECT_PATH}\"\n",
        "!git init \"{PROJECT_PATH}\""
      ],
      "execution_count": 0,
      "outputs": [
        {
          "output_type": "stream",
          "text": [
            "mkdir: cannot create directory ‘/content/drive/My Drive/PhDColab/Workspace’: File exists\n",
            "Initialized empty Git repository in /content/drive/My Drive/PhDColab/Workspace/.git/\n"
          ],
          "name": "stdout"
        }
      ]
    },
    {
      "cell_type": "code",
      "metadata": {
        "id": "4Sdorrw_aZJ_",
        "colab_type": "code",
        "outputId": "af4b46aa-434a-4036-e010-33501734a343",
        "colab": {
          "base_uri": "https://localhost:8080/",
          "height": 153
        }
      },
      "source": [
        "GIT_USERNAME = \"mariamadalina\"\n",
        "GIT_TOKEN = \"8ff0a8ff9634362225cfaf100c674e053dca79a6\"\n",
        "GIT_REPOSITORY = \"pytrends\"\n",
        "# https://github.com/mariamadalina/pytrends.git\n",
        "!mkdir \"{PROJECT_PATH}\"\n",
        "!git clone https://{GIT_TOKEN}@github.com/{GIT_USERNAME}/{GIT_REPOSITORY}.git \"{PROJECT_PATH}\"\n"
      ],
      "execution_count": 0,
      "outputs": [
        {
          "output_type": "stream",
          "text": [
            "mkdir: cannot create directory ‘/content/drive/My Drive/PhDColab/Workspace’: File exists\n",
            "Cloning into '/content/drive/My Drive/PhDColab/Workspace'...\n",
            "remote: Enumerating objects: 1647, done.\u001b[K\n",
            "remote: Counting objects: 100% (1647/1647), done.\u001b[K\n",
            "remote: Compressing objects: 100% (625/625), done.\u001b[K\n",
            "remote: Total 1647 (delta 974), reused 1647 (delta 974), pack-reused 0\u001b[K\n",
            "Receiving objects: 100% (1647/1647), 350.21 KiB | 2.13 MiB/s, done.\n",
            "Resolving deltas: 100% (974/974), done.\n"
          ],
          "name": "stdout"
        }
      ]
    },
    {
      "cell_type": "code",
      "metadata": {
        "id": "PDxhLs_-b-Y2",
        "colab_type": "code",
        "colab": {}
      },
      "source": [
        "from importlib.machinery import SourceFileLoader\n",
        "pytrends = SourceFileLoader('pytrends', join(PROJECT_PATH, 'pytrends/__init__.py')).load_module()\n"
      ],
      "execution_count": 0,
      "outputs": []
    },
    {
      "cell_type": "code",
      "metadata": {
        "id": "Zpz4HdD1c_Ot",
        "colab_type": "code",
        "outputId": "ab74c5fc-6bbf-4782-ed35-6db4ebc0aa78",
        "colab": {
          "base_uri": "https://localhost:8080/",
          "height": 34
        }
      },
      "source": [
        "category_identifier = pytrends.utils.CategoryRead()\n",
        "google_trends={}\n",
        "category='Food & Drink'\n",
        "search_category='Autos & Vehicles'\n",
        "\n",
        "category_identifier.get_categpry_id('Pets & Animals')"
      ],
      "execution_count": 0,
      "outputs": [
        {
          "output_type": "execute_result",
          "data": {
            "text/plain": [
              "66"
            ]
          },
          "metadata": {
            "tags": []
          },
          "execution_count": 15
        }
      ]
    },
    {
      "cell_type": "code",
      "metadata": {
        "id": "Rb-gottwdVRk",
        "colab_type": "code",
        "outputId": "528af933-b6f7-4b48-cada-9ed1fcb7152e",
        "colab": {
          "base_uri": "https://localhost:8080/",
          "height": 34
        }
      },
      "source": [
        "google_trends"
      ],
      "execution_count": 0,
      "outputs": [
        {
          "output_type": "execute_result",
          "data": {
            "text/plain": [
              "<pytrends.utils.CategoryRead at 0x7fce34df12e8>"
            ]
          },
          "metadata": {
            "tags": []
          },
          "execution_count": 11
        }
      ]
    }
  ]
}